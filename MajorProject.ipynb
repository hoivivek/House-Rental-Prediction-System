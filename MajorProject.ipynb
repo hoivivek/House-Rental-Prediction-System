{
 "cells": [
  {
   "cell_type": "raw",
   "id": "2d8c5415",
   "metadata": {},
   "source": [
    "## HOUSE RENTAL PREDICTION SYSTEM"
   ]
  },
  {
   "cell_type": "code",
   "execution_count": 2,
   "id": "24302c93",
   "metadata": {},
   "outputs": [
    {
     "name": "stdout",
     "output_type": "stream",
     "text": [
      "Requirement already satisfied: joblib in c:\\users\\admin\\anaconda3\\lib\\site-packages (1.2.0)\n"
     ]
    }
   ],
   "source": [
    "!pip install joblib"
   ]
  },
  {
   "cell_type": "code",
   "execution_count": 3,
   "id": "271e97e1",
   "metadata": {},
   "outputs": [],
   "source": [
    "import pandas as pd\n",
    "import numpy as np\n",
    "from sklearn.preprocessing import LabelEncoder\n",
    "from sklearn.model_selection import train_test_split\n",
    "from sklearn.linear_model import LinearRegression\n",
    "from sklearn.neighbors import KNeighborsRegressor\n",
    "from sklearn.tree import DecisionTreeRegressor\n",
    "from sklearn.ensemble import RandomForestRegressor\n",
    "from sklearn.ensemble import GradientBoostingRegressor\n",
    "from sklearn.metrics import r2_score\n",
    "import xgboost as xgb\n",
    "import matplotlib.pyplot as plt\n",
    "import seaborn as sns\n",
    "import math\n",
    "from pickle4 import pickle\n",
    "import joblib\n",
    "from tabulate import tabulate\n",
    "from tkinter import *\n",
    "import tkinter.messagebox"
   ]
  },
  {
   "cell_type": "code",
   "execution_count": 4,
   "id": "af2f892c",
   "metadata": {},
   "outputs": [],
   "source": [
    "dfH = pd.read_csv('C:/Users/admin/OneDrive - gitam.in/Desktop/A12/DATASETS/Hyderabad_rent.csv')\n",
    "dfD = pd.read_csv('C:/Users/admin/OneDrive - gitam.in/Desktop/A12/DATASETS/Delhi_rent.csv')\n",
    "dfM = pd.read_csv('C:/Users/admin/OneDrive - gitam.in/Desktop/A12/DATASETS/Mumbai_rent.csv')\n",
    "dfC = pd.read_csv('C:/Users/admin/OneDrive - gitam.in/Desktop/A12/DATASETS/Chennai_rent.csv')\n",
    "dfK = pd.read_csv('C:/Users/admin/OneDrive - gitam.in/Desktop/A12/DATASETS/Kolkata_rent.csv')\n",
    "dfB = pd.read_csv('C:/Users/admin/OneDrive - gitam.in/Desktop/A12/DATASETS/Bangalore_rent.csv')"
   ]
  },
  {
   "cell_type": "code",
   "execution_count": 5,
   "id": "0a241186",
   "metadata": {},
   "outputs": [
    {
     "name": "stdout",
     "output_type": "stream",
     "text": [
      "Hyderabad (10757, 10)\n",
      "Delhi (33500, 10)\n",
      "Mumbai (68518, 10)\n",
      "Chennai (9283, 10)\n",
      "Kolkata (9900, 10)\n",
      "Bangalore (23540, 10)\n"
     ]
    }
   ],
   "source": [
    "dfs = [dfH,dfD,dfM,dfC,dfK,dfB]\n",
    "cities = ['Hyderabad', 'Delhi', 'Mumbai', 'Chennai', 'Kolkata', 'Bangalore']\n",
    "for df,city in zip(dfs,cities):\n",
    "    df['city']=city\n",
    "    print(city,df.shape)"
   ]
  },
  {
   "cell_type": "code",
   "execution_count": 6,
   "id": "13552c87",
   "metadata": {},
   "outputs": [
    {
     "data": {
      "text/plain": [
       "(155498, 10)"
      ]
     },
     "execution_count": 6,
     "metadata": {},
     "output_type": "execute_result"
    }
   ],
   "source": [
    "df = pd.concat(dfs)\n",
    "df.shape"
   ]
  },
  {
   "cell_type": "code",
   "execution_count": 7,
   "id": "e69a60d5",
   "metadata": {},
   "outputs": [
    {
     "data": {
      "text/html": [
       "<div>\n",
       "<style scoped>\n",
       "    .dataframe tbody tr th:only-of-type {\n",
       "        vertical-align: middle;\n",
       "    }\n",
       "\n",
       "    .dataframe tbody tr th {\n",
       "        vertical-align: top;\n",
       "    }\n",
       "\n",
       "    .dataframe thead th {\n",
       "        text-align: right;\n",
       "    }\n",
       "</style>\n",
       "<table border=\"1\" class=\"dataframe\">\n",
       "  <thead>\n",
       "    <tr style=\"text-align: right;\">\n",
       "      <th></th>\n",
       "      <th>seller_type</th>\n",
       "      <th>bedroom</th>\n",
       "      <th>layout_type</th>\n",
       "      <th>property_type</th>\n",
       "      <th>locality</th>\n",
       "      <th>price</th>\n",
       "      <th>area</th>\n",
       "      <th>furnish_type</th>\n",
       "      <th>bathroom</th>\n",
       "      <th>city</th>\n",
       "    </tr>\n",
       "  </thead>\n",
       "  <tbody>\n",
       "    <tr>\n",
       "      <th>0</th>\n",
       "      <td>OWNER</td>\n",
       "      <td>1.0</td>\n",
       "      <td>RK</td>\n",
       "      <td>Studio Apartment</td>\n",
       "      <td>Serilingampally</td>\n",
       "      <td>6,720</td>\n",
       "      <td>320.0</td>\n",
       "      <td>Furnished</td>\n",
       "      <td>1 bathrooms</td>\n",
       "      <td>Hyderabad</td>\n",
       "    </tr>\n",
       "    <tr>\n",
       "      <th>1</th>\n",
       "      <td>OWNER</td>\n",
       "      <td>5.0</td>\n",
       "      <td>BHK</td>\n",
       "      <td>Villa</td>\n",
       "      <td>Sri Nagar Colony</td>\n",
       "      <td>36,000</td>\n",
       "      <td>3000.0</td>\n",
       "      <td>Semi-Furnished</td>\n",
       "      <td>4 bathrooms</td>\n",
       "      <td>Hyderabad</td>\n",
       "    </tr>\n",
       "    <tr>\n",
       "      <th>2</th>\n",
       "      <td>OWNER</td>\n",
       "      <td>2.0</td>\n",
       "      <td>BHK</td>\n",
       "      <td>Independent House</td>\n",
       "      <td>Shaikpet</td>\n",
       "      <td>11,000</td>\n",
       "      <td>900.0</td>\n",
       "      <td>Semi-Furnished</td>\n",
       "      <td>2 bathrooms</td>\n",
       "      <td>Hyderabad</td>\n",
       "    </tr>\n",
       "    <tr>\n",
       "      <th>3</th>\n",
       "      <td>OWNER</td>\n",
       "      <td>3.0</td>\n",
       "      <td>BHK</td>\n",
       "      <td>Apartment</td>\n",
       "      <td>Nanakramguda</td>\n",
       "      <td>45,000</td>\n",
       "      <td>2165.0</td>\n",
       "      <td>Unfurnished</td>\n",
       "      <td>3 bathrooms</td>\n",
       "      <td>Hyderabad</td>\n",
       "    </tr>\n",
       "    <tr>\n",
       "      <th>4</th>\n",
       "      <td>OWNER</td>\n",
       "      <td>3.0</td>\n",
       "      <td>BHK</td>\n",
       "      <td>Apartment</td>\n",
       "      <td>Kondapur</td>\n",
       "      <td>20,000</td>\n",
       "      <td>1600.0</td>\n",
       "      <td>Semi-Furnished</td>\n",
       "      <td>3 bathrooms</td>\n",
       "      <td>Hyderabad</td>\n",
       "    </tr>\n",
       "  </tbody>\n",
       "</table>\n",
       "</div>"
      ],
      "text/plain": [
       "  seller_type  bedroom layout_type      property_type          locality  \\\n",
       "0       OWNER      1.0          RK   Studio Apartment   Serilingampally   \n",
       "1       OWNER      5.0         BHK              Villa  Sri Nagar Colony   \n",
       "2       OWNER      2.0         BHK  Independent House          Shaikpet   \n",
       "3       OWNER      3.0         BHK          Apartment      Nanakramguda   \n",
       "4       OWNER      3.0         BHK          Apartment          Kondapur   \n",
       "\n",
       "    price    area    furnish_type     bathroom       city  \n",
       "0   6,720   320.0       Furnished  1 bathrooms  Hyderabad  \n",
       "1  36,000  3000.0  Semi-Furnished  4 bathrooms  Hyderabad  \n",
       "2  11,000   900.0  Semi-Furnished  2 bathrooms  Hyderabad  \n",
       "3  45,000  2165.0     Unfurnished  3 bathrooms  Hyderabad  \n",
       "4  20,000  1600.0  Semi-Furnished  3 bathrooms  Hyderabad  "
      ]
     },
     "execution_count": 7,
     "metadata": {},
     "output_type": "execute_result"
    }
   ],
   "source": [
    "df.head()"
   ]
  },
  {
   "cell_type": "code",
   "execution_count": 8,
   "id": "31c88c28",
   "metadata": {},
   "outputs": [
    {
     "data": {
      "text/html": [
       "<div>\n",
       "<style scoped>\n",
       "    .dataframe tbody tr th:only-of-type {\n",
       "        vertical-align: middle;\n",
       "    }\n",
       "\n",
       "    .dataframe tbody tr th {\n",
       "        vertical-align: top;\n",
       "    }\n",
       "\n",
       "    .dataframe thead th {\n",
       "        text-align: right;\n",
       "    }\n",
       "</style>\n",
       "<table border=\"1\" class=\"dataframe\">\n",
       "  <thead>\n",
       "    <tr style=\"text-align: right;\">\n",
       "      <th></th>\n",
       "      <th>bedroom</th>\n",
       "      <th>area</th>\n",
       "    </tr>\n",
       "  </thead>\n",
       "  <tbody>\n",
       "    <tr>\n",
       "      <th>count</th>\n",
       "      <td>154437.000000</td>\n",
       "      <td>154437.000000</td>\n",
       "    </tr>\n",
       "    <tr>\n",
       "      <th>mean</th>\n",
       "      <td>2.048764</td>\n",
       "      <td>1246.972468</td>\n",
       "    </tr>\n",
       "    <tr>\n",
       "      <th>std</th>\n",
       "      <td>0.977934</td>\n",
       "      <td>1104.038100</td>\n",
       "    </tr>\n",
       "    <tr>\n",
       "      <th>min</th>\n",
       "      <td>1.000000</td>\n",
       "      <td>3.000000</td>\n",
       "    </tr>\n",
       "    <tr>\n",
       "      <th>25%</th>\n",
       "      <td>1.000000</td>\n",
       "      <td>650.000000</td>\n",
       "    </tr>\n",
       "    <tr>\n",
       "      <th>50%</th>\n",
       "      <td>2.000000</td>\n",
       "      <td>990.000000</td>\n",
       "    </tr>\n",
       "    <tr>\n",
       "      <th>75%</th>\n",
       "      <td>3.000000</td>\n",
       "      <td>1377.000000</td>\n",
       "    </tr>\n",
       "    <tr>\n",
       "      <th>max</th>\n",
       "      <td>15.000000</td>\n",
       "      <td>19800.000000</td>\n",
       "    </tr>\n",
       "  </tbody>\n",
       "</table>\n",
       "</div>"
      ],
      "text/plain": [
       "             bedroom           area\n",
       "count  154437.000000  154437.000000\n",
       "mean        2.048764    1246.972468\n",
       "std         0.977934    1104.038100\n",
       "min         1.000000       3.000000\n",
       "25%         1.000000     650.000000\n",
       "50%         2.000000     990.000000\n",
       "75%         3.000000    1377.000000\n",
       "max        15.000000   19800.000000"
      ]
     },
     "execution_count": 8,
     "metadata": {},
     "output_type": "execute_result"
    }
   ],
   "source": [
    "df.describe()"
   ]
  },
  {
   "cell_type": "code",
   "execution_count": 9,
   "id": "51fabb36",
   "metadata": {},
   "outputs": [
    {
     "data": {
      "image/png": "[encoded data removed]",
      "text/plain": [
       "<Figure size 720x360 with 2 Axes>"
      ]
     },
     "metadata": {
      "needs_background": "light"
     },
     "output_type": "display_data"
    }
   ],
   "source": [
    "df.hist(figsize = (10,5))\n",
    "plt.show()"
   ]
  },
  {
   "cell_type": "code",
   "execution_count": 10,
   "id": "d65344a5",
   "metadata": {},
   "outputs": [
    {
     "data": {
      "image/png": "[encoded data removed]",
      "text/plain": [
       "<Figure size 432x288 with 1 Axes>"
      ]
     },
     "metadata": {
      "needs_background": "light"
     },
     "output_type": "display_data"
    },
    {
     "data": {
      "image/png": "[encoded data removed]",
      "text/plain": [
       "<Figure size 432x288 with 1 Axes>"
      ]
     },
     "metadata": {
      "needs_background": "light"
     },
     "output_type": "display_data"
    },
    {
     "data": {
      "image/png": "[encoded data removed]",
      "text/plain": [
       "<Figure size 432x288 with 1 Axes>"
      ]
     },
     "metadata": {
      "needs_background": "light"
     },
     "output_type": "display_data"
    },
    {
     "data": {
      "image/png": "[encoded data removed]",
      "text/plain": [
       "<Figure size 432x288 with 1 Axes>"
      ]
     },
     "metadata": {
      "needs_background": "light"
     },
     "output_type": "display_data"
    },
    {
     "data": {
      "image/png": "[encoded data removed]",
      "text/plain": [
       "<Figure size 432x288 with 1 Axes>"
      ]
     },
     "metadata": {
      "needs_background": "light"
     },
     "output_type": "display_data"
    }
   ],
   "source": [
    "for column in df.select_dtypes(include='object'):\n",
    "    if df[column].nunique() < 10:\n",
    "        sns.countplot(y=column, data=df)\n",
    "        plt.show()"
   ]
  },
  {
   "cell_type": "code",
   "execution_count": 11,
   "id": "6dec4791",
   "metadata": {},
   "outputs": [
    {
     "name": "stdout",
     "output_type": "stream",
     "text": [
      "<class 'pandas.core.frame.DataFrame'>\n",
      "Int64Index: 155498 entries, 0 to 23539\n",
      "Data columns (total 10 columns):\n",
      " #   Column         Non-Null Count   Dtype  \n",
      "---  ------         --------------   -----  \n",
      " 0   seller_type    154434 non-null  object \n",
      " 1   bedroom        154437 non-null  float64\n",
      " 2   layout_type    154437 non-null  object \n",
      " 3   property_type  154437 non-null  object \n",
      " 4   locality       154436 non-null  object \n",
      " 5   price          154437 non-null  object \n",
      " 6   area           154437 non-null  float64\n",
      " 7   furnish_type   154437 non-null  object \n",
      " 8   bathroom       152387 non-null  object \n",
      " 9   city           155498 non-null  object \n",
      "dtypes: float64(2), object(8)\n",
      "memory usage: 13.0+ MB\n"
     ]
    }
   ],
   "source": [
    "df.info()"
   ]
  },
  {
   "cell_type": "code",
   "execution_count": 12,
   "id": "2e0ef8d8",
   "metadata": {},
   "outputs": [
    {
     "data": {
      "text/plain": [
       "seller_type      1064\n",
       "bedroom          1061\n",
       "layout_type      1061\n",
       "property_type    1061\n",
       "locality         1062\n",
       "price            1061\n",
       "area             1061\n",
       "furnish_type     1061\n",
       "bathroom         3111\n",
       "city                0\n",
       "dtype: int64"
      ]
     },
     "execution_count": 12,
     "metadata": {},
     "output_type": "execute_result"
    }
   ],
   "source": [
    "#checking missing values\n",
    "df.isnull().sum()"
   ]
  },
  {
   "cell_type": "code",
   "execution_count": 13,
   "id": "21103218",
   "metadata": {},
   "outputs": [
    {
     "data": {
      "text/plain": [
       "(152383, 10)"
      ]
     },
     "execution_count": 13,
     "metadata": {},
     "output_type": "execute_result"
    }
   ],
   "source": [
    "df=df.dropna()\n",
    "df.shape"
   ]
  },
  {
   "cell_type": "code",
   "execution_count": 14,
   "id": "ca4efdba",
   "metadata": {},
   "outputs": [
    {
     "name": "stdout",
     "output_type": "stream",
     "text": [
      "['OWNER' 'AGENT' 'BUILDER']\n",
      "AGENT      119819\n",
      "OWNER       31632\n",
      "BUILDER       932\n",
      "Name: seller_type, dtype: int64\n"
     ]
    }
   ],
   "source": [
    "#checking all unique values \n",
    "print(df.seller_type.unique())\n",
    "print(df.seller_type.value_counts())"
   ]
  },
  {
   "cell_type": "code",
   "execution_count": 15,
   "id": "8f891d44",
   "metadata": {},
   "outputs": [
    {
     "name": "stdout",
     "output_type": "stream",
     "text": [
      "[ 1.  5.  2.  3.  6.  4. 10. 11.  8.  7.  9. 15. 12. 14.]\n",
      "2.0     59208\n",
      "1.0     49411\n",
      "3.0     32901\n",
      "4.0      9310\n",
      "5.0      1199\n",
      "6.0       131\n",
      "10.0       74\n",
      "8.0        46\n",
      "7.0        45\n",
      "9.0        23\n",
      "15.0       22\n",
      "12.0        6\n",
      "14.0        4\n",
      "11.0        3\n",
      "Name: bedroom, dtype: int64\n"
     ]
    }
   ],
   "source": [
    "print(df.bedroom.unique())\n",
    "print(df.bedroom.value_counts())"
   ]
  },
  {
   "cell_type": "code",
   "execution_count": 16,
   "id": "8de3e8f5",
   "metadata": {},
   "outputs": [
    {
     "name": "stdout",
     "output_type": "stream",
     "text": [
      "['RK' 'BHK']\n",
      "BHK    144188\n",
      "RK       8195\n",
      "Name: layout_type, dtype: int64\n"
     ]
    }
   ],
   "source": [
    "print(df.layout_type.unique())\n",
    "print(df.layout_type.value_counts())"
   ]
  },
  {
   "cell_type": "code",
   "execution_count": 17,
   "id": "f5b7e222",
   "metadata": {
    "scrolled": true
   },
   "outputs": [
    {
     "name": "stdout",
     "output_type": "stream",
     "text": [
      "['Studio Apartment' 'Villa' 'Independent House' 'Apartment'\n",
      " 'Independent Floor' 'Penthouse']\n",
      "Apartment            103764\n",
      "Independent Floor     26840\n",
      "Independent House     11253\n",
      "Studio Apartment       8195\n",
      "Villa                  2199\n",
      "Penthouse               132\n",
      "Name: property_type, dtype: int64\n"
     ]
    }
   ],
   "source": [
    "print(df.property_type.unique())\n",
    "print(df.property_type.value_counts())"
   ]
  },
  {
   "cell_type": "code",
   "execution_count": 18,
   "id": "08c9414b",
   "metadata": {},
   "outputs": [
    {
     "name": "stdout",
     "output_type": "stream",
     "text": [
      "['Furnished' 'Semi-Furnished' 'Unfurnished']\n",
      "Semi-Furnished    79129\n",
      "Unfurnished       45250\n",
      "Furnished         28004\n",
      "Name: furnish_type, dtype: int64\n"
     ]
    }
   ],
   "source": [
    "print(df.furnish_type.unique())\n",
    "print(df.furnish_type.value_counts())"
   ]
  },
  {
   "cell_type": "code",
   "execution_count": 19,
   "id": "a443a49d",
   "metadata": {},
   "outputs": [
    {
     "name": "stdout",
     "output_type": "stream",
     "text": [
      "['1 bathrooms' '4 bathrooms' '2 bathrooms' '3 bathrooms' '5 bathrooms'\n",
      " 'East facing' 'West facing' 'North facing' 'South facing' '6 bathrooms'\n",
      " '7 bathrooms' 'Grfloor' '10 bathrooms' '12 bathrooms' '8 bathrooms'\n",
      " 'NorthWest facing' '4 of 5floor' '9 bathrooms' 'NorthEast facing'\n",
      " 'SouthEast facing' '16 bathrooms' '14 bathrooms' '15 bathrooms'\n",
      " 'Gr of 2floor' '3 of 3floor' '4 of 9floor' '3 of 4floor' '2 of 4floor'\n",
      " '2 of 3floor' '3 of 5floor' '1 of 3floor' '2 of 5floor'\n",
      " 'SouthWest facing' 'availability immediately' '2 of 7floor'\n",
      " '7 of 12floor' 'Family only' '17 of 29floor' '10 of 16floor'\n",
      " '4 of 7floor' '17 of 25floor' '6 of 7floor' '11 of 17floor'\n",
      " '15 of 28floor' '5 of 14floor' '6 of 8floor' '9 of 12floor' '3 of 7floor'\n",
      " '1 of 4floor' '12 of 16floor' '7 of 16floor' '1 of 6floor' '18 bathrooms'\n",
      " '19 bathrooms' '1 of 2floor']\n",
      "2 bathrooms                 71127\n",
      "1 bathrooms                 45390\n",
      "3 bathrooms                 24654\n",
      "4 bathrooms                  8630\n",
      "5 bathrooms                  1593\n",
      "6 bathrooms                   331\n",
      "East facing                   152\n",
      "7 bathrooms                    74\n",
      "North facing                   62\n",
      "9 bathrooms                    55\n",
      "NorthEast facing               50\n",
      "8 bathrooms                    48\n",
      "10 bathrooms                   34\n",
      "West facing                    23\n",
      "Grfloor                        15\n",
      "SouthWest facing               15\n",
      "1 of 4floor                    13\n",
      "NorthWest facing               11\n",
      "SouthEast facing               10\n",
      "2 of 4floor                     8\n",
      "15 bathrooms                    7\n",
      "16 bathrooms                    6\n",
      "14 bathrooms                    6\n",
      "South facing                    6\n",
      "3 of 3floor                     5\n",
      "3 of 4floor                     5\n",
      "Family only                     4\n",
      "1 of 3floor                     4\n",
      "2 of 5floor                     4\n",
      "12 bathrooms                    4\n",
      "2 of 7floor                     3\n",
      "5 of 14floor                    2\n",
      "11 of 17floor                   2\n",
      "6 of 7floor                     2\n",
      "10 of 16floor                   2\n",
      "Gr of 2floor                    2\n",
      "7 of 12floor                    2\n",
      "19 bathrooms                    2\n",
      "2 of 3floor                     2\n",
      "4 of 5floor                     2\n",
      "availability immediately        2\n",
      "3 of 7floor                     1\n",
      "1 of 6floor                     1\n",
      "7 of 16floor                    1\n",
      "18 bathrooms                    1\n",
      "12 of 16floor                   1\n",
      "17 of 29floor                   1\n",
      "9 of 12floor                    1\n",
      "6 of 8floor                     1\n",
      "15 of 28floor                   1\n",
      "17 of 25floor                   1\n",
      "4 of 7floor                     1\n",
      "3 of 5floor                     1\n",
      "4 of 9floor                     1\n",
      "1 of 2floor                     1\n",
      "Name: bathroom, dtype: int64\n"
     ]
    }
   ],
   "source": [
    "print(df.bathroom.unique())\n",
    "print(df.bathroom.value_counts())"
   ]
  },
  {
   "cell_type": "code",
   "execution_count": 20,
   "id": "d1727ada",
   "metadata": {},
   "outputs": [
    {
     "data": {
      "text/plain": [
       "(151962, 10)"
      ]
     },
     "execution_count": 20,
     "metadata": {},
     "output_type": "execute_result"
    }
   ],
   "source": [
    "#removing unnecessary values\n",
    "df=df[df.bathroom.str.contains('bathrooms')]\n",
    "df.shape"
   ]
  },
  {
   "cell_type": "code",
   "execution_count": 21,
   "id": "4b600f4c",
   "metadata": {},
   "outputs": [
    {
     "name": "stdout",
     "output_type": "stream",
     "text": [
      "['1 bathrooms' '4 bathrooms' '2 bathrooms' '3 bathrooms' '5 bathrooms'\n",
      " '6 bathrooms' '7 bathrooms' '10 bathrooms' '12 bathrooms' '8 bathrooms'\n",
      " '9 bathrooms' '16 bathrooms' '14 bathrooms' '15 bathrooms' '18 bathrooms'\n",
      " '19 bathrooms']\n",
      "2 bathrooms     71127\n",
      "1 bathrooms     45390\n",
      "3 bathrooms     24654\n",
      "4 bathrooms      8630\n",
      "5 bathrooms      1593\n",
      "6 bathrooms       331\n",
      "7 bathrooms        74\n",
      "9 bathrooms        55\n",
      "8 bathrooms        48\n",
      "10 bathrooms       34\n",
      "15 bathrooms        7\n",
      "16 bathrooms        6\n",
      "14 bathrooms        6\n",
      "12 bathrooms        4\n",
      "19 bathrooms        2\n",
      "18 bathrooms        1\n",
      "Name: bathroom, dtype: int64\n"
     ]
    }
   ],
   "source": [
    "print(df.bathroom.unique())\n",
    "print(df.bathroom.value_counts())"
   ]
  },
  {
   "cell_type": "code",
   "execution_count": 22,
   "id": "328d302a",
   "metadata": {},
   "outputs": [
    {
     "data": {
      "text/html": [
       "<div>\n",
       "<style scoped>\n",
       "    .dataframe tbody tr th:only-of-type {\n",
       "        vertical-align: middle;\n",
       "    }\n",
       "\n",
       "    .dataframe tbody tr th {\n",
       "        vertical-align: top;\n",
       "    }\n",
       "\n",
       "    .dataframe thead th {\n",
       "        text-align: right;\n",
       "    }\n",
       "</style>\n",
       "<table border=\"1\" class=\"dataframe\">\n",
       "  <thead>\n",
       "    <tr style=\"text-align: right;\">\n",
       "      <th></th>\n",
       "      <th>seller_type</th>\n",
       "      <th>bedroom</th>\n",
       "      <th>layout_type</th>\n",
       "      <th>property_type</th>\n",
       "      <th>locality</th>\n",
       "      <th>price</th>\n",
       "      <th>area</th>\n",
       "      <th>furnish_type</th>\n",
       "      <th>bathroom</th>\n",
       "      <th>city</th>\n",
       "    </tr>\n",
       "  </thead>\n",
       "  <tbody>\n",
       "    <tr>\n",
       "      <th>0</th>\n",
       "      <td>OWNER</td>\n",
       "      <td>1.0</td>\n",
       "      <td>RK</td>\n",
       "      <td>Studio Apartment</td>\n",
       "      <td>Serilingampally</td>\n",
       "      <td>6,720</td>\n",
       "      <td>320.0</td>\n",
       "      <td>Furnished</td>\n",
       "      <td>1</td>\n",
       "      <td>Hyderabad</td>\n",
       "    </tr>\n",
       "    <tr>\n",
       "      <th>1</th>\n",
       "      <td>OWNER</td>\n",
       "      <td>5.0</td>\n",
       "      <td>BHK</td>\n",
       "      <td>Villa</td>\n",
       "      <td>Sri Nagar Colony</td>\n",
       "      <td>36,000</td>\n",
       "      <td>3000.0</td>\n",
       "      <td>Semi-Furnished</td>\n",
       "      <td>4</td>\n",
       "      <td>Hyderabad</td>\n",
       "    </tr>\n",
       "    <tr>\n",
       "      <th>2</th>\n",
       "      <td>OWNER</td>\n",
       "      <td>2.0</td>\n",
       "      <td>BHK</td>\n",
       "      <td>Independent House</td>\n",
       "      <td>Shaikpet</td>\n",
       "      <td>11,000</td>\n",
       "      <td>900.0</td>\n",
       "      <td>Semi-Furnished</td>\n",
       "      <td>2</td>\n",
       "      <td>Hyderabad</td>\n",
       "    </tr>\n",
       "    <tr>\n",
       "      <th>3</th>\n",
       "      <td>OWNER</td>\n",
       "      <td>3.0</td>\n",
       "      <td>BHK</td>\n",
       "      <td>Apartment</td>\n",
       "      <td>Nanakramguda</td>\n",
       "      <td>45,000</td>\n",
       "      <td>2165.0</td>\n",
       "      <td>Unfurnished</td>\n",
       "      <td>3</td>\n",
       "      <td>Hyderabad</td>\n",
       "    </tr>\n",
       "    <tr>\n",
       "      <th>4</th>\n",
       "      <td>OWNER</td>\n",
       "      <td>3.0</td>\n",
       "      <td>BHK</td>\n",
       "      <td>Apartment</td>\n",
       "      <td>Kondapur</td>\n",
       "      <td>20,000</td>\n",
       "      <td>1600.0</td>\n",
       "      <td>Semi-Furnished</td>\n",
       "      <td>3</td>\n",
       "      <td>Hyderabad</td>\n",
       "    </tr>\n",
       "  </tbody>\n",
       "</table>\n",
       "</div>"
      ],
      "text/plain": [
       "  seller_type  bedroom layout_type      property_type          locality  \\\n",
       "0       OWNER      1.0          RK   Studio Apartment   Serilingampally   \n",
       "1       OWNER      5.0         BHK              Villa  Sri Nagar Colony   \n",
       "2       OWNER      2.0         BHK  Independent House          Shaikpet   \n",
       "3       OWNER      3.0         BHK          Apartment      Nanakramguda   \n",
       "4       OWNER      3.0         BHK          Apartment          Kondapur   \n",
       "\n",
       "    price    area    furnish_type bathroom       city  \n",
       "0   6,720   320.0       Furnished        1  Hyderabad  \n",
       "1  36,000  3000.0  Semi-Furnished        4  Hyderabad  \n",
       "2  11,000   900.0  Semi-Furnished        2  Hyderabad  \n",
       "3  45,000  2165.0     Unfurnished        3  Hyderabad  \n",
       "4  20,000  1600.0  Semi-Furnished        3  Hyderabad  "
      ]
     },
     "execution_count": 22,
     "metadata": {},
     "output_type": "execute_result"
    }
   ],
   "source": [
    "df['bathroom'] = df['bathroom'].str.replace(r'[^\\d.]+', '', regex=True)\n",
    "df.head()"
   ]
  },
  {
   "cell_type": "code",
   "execution_count": 23,
   "id": "24439540",
   "metadata": {},
   "outputs": [],
   "source": [
    "df['bathroom'] = df['bathroom'].astype('float64', errors = 'raise')"
   ]
  },
  {
   "cell_type": "code",
   "execution_count": 24,
   "id": "9def5352",
   "metadata": {},
   "outputs": [
    {
     "name": "stdout",
     "output_type": "stream",
     "text": [
      "<class 'pandas.core.frame.DataFrame'>\n",
      "Int64Index: 151962 entries, 0 to 23539\n",
      "Data columns (total 10 columns):\n",
      " #   Column         Non-Null Count   Dtype  \n",
      "---  ------         --------------   -----  \n",
      " 0   seller_type    151962 non-null  object \n",
      " 1   bedroom        151962 non-null  float64\n",
      " 2   layout_type    151962 non-null  object \n",
      " 3   property_type  151962 non-null  object \n",
      " 4   locality       151962 non-null  object \n",
      " 5   price          151962 non-null  object \n",
      " 6   area           151962 non-null  float64\n",
      " 7   furnish_type   151962 non-null  object \n",
      " 8   bathroom       151962 non-null  float64\n",
      " 9   city           151962 non-null  object \n",
      "dtypes: float64(3), object(7)\n",
      "memory usage: 12.8+ MB\n"
     ]
    }
   ],
   "source": [
    "df.info()"
   ]
  },
  {
   "cell_type": "code",
   "execution_count": 25,
   "id": "a9f57d8f",
   "metadata": {},
   "outputs": [
    {
     "data": {
      "text/plain": [
       "Int64Index([ 5892,  6513,  6535,  6692,  6693,  7037,  7066,  7186,  8046,\n",
       "             8594,\n",
       "            ...\n",
       "            17811, 17832, 17836, 17838, 17839, 17857, 17968, 18615, 18991,\n",
       "            22901],\n",
       "           dtype='int64', length=132)"
      ]
     },
     "execution_count": 25,
     "metadata": {},
     "output_type": "execute_result"
    }
   ],
   "source": [
    "d = df[df['property_type'] == 'Penthouse'].index\n",
    "d"
   ]
  },
  {
   "cell_type": "code",
   "execution_count": 26,
   "id": "3f9c196b",
   "metadata": {},
   "outputs": [
    {
     "name": "stdout",
     "output_type": "stream",
     "text": [
      "<class 'pandas.core.frame.DataFrame'>\n",
      "Int64Index: 151601 entries, 0 to 23539\n",
      "Data columns (total 10 columns):\n",
      " #   Column         Non-Null Count   Dtype  \n",
      "---  ------         --------------   -----  \n",
      " 0   seller_type    151601 non-null  object \n",
      " 1   bedroom        151601 non-null  float64\n",
      " 2   layout_type    151601 non-null  object \n",
      " 3   property_type  151601 non-null  object \n",
      " 4   locality       151601 non-null  object \n",
      " 5   price          151601 non-null  object \n",
      " 6   area           151601 non-null  float64\n",
      " 7   furnish_type   151601 non-null  object \n",
      " 8   bathroom       151601 non-null  float64\n",
      " 9   city           151601 non-null  object \n",
      "dtypes: float64(3), object(7)\n",
      "memory usage: 12.7+ MB\n"
     ]
    }
   ],
   "source": [
    "df.drop(d, inplace = True)\n",
    "df.info()"
   ]
  },
  {
   "cell_type": "code",
   "execution_count": 27,
   "id": "356a31b1",
   "metadata": {},
   "outputs": [
    {
     "data": {
      "text/html": [
       "<div>\n",
       "<style scoped>\n",
       "    .dataframe tbody tr th:only-of-type {\n",
       "        vertical-align: middle;\n",
       "    }\n",
       "\n",
       "    .dataframe tbody tr th {\n",
       "        vertical-align: top;\n",
       "    }\n",
       "\n",
       "    .dataframe thead th {\n",
       "        text-align: right;\n",
       "    }\n",
       "</style>\n",
       "<table border=\"1\" class=\"dataframe\">\n",
       "  <thead>\n",
       "    <tr style=\"text-align: right;\">\n",
       "      <th></th>\n",
       "      <th>seller_type</th>\n",
       "      <th>bedroom</th>\n",
       "      <th>layout_type</th>\n",
       "      <th>property_type</th>\n",
       "      <th>locality</th>\n",
       "      <th>price</th>\n",
       "      <th>area</th>\n",
       "      <th>furnish_type</th>\n",
       "      <th>bathroom</th>\n",
       "      <th>city</th>\n",
       "      <th>p2</th>\n",
       "    </tr>\n",
       "  </thead>\n",
       "  <tbody>\n",
       "    <tr>\n",
       "      <th>0</th>\n",
       "      <td>OWNER</td>\n",
       "      <td>1.0</td>\n",
       "      <td>RK</td>\n",
       "      <td>Studio Apartment</td>\n",
       "      <td>Serilingampally</td>\n",
       "      <td>6,720</td>\n",
       "      <td>320.0</td>\n",
       "      <td>Furnished</td>\n",
       "      <td>1.0</td>\n",
       "      <td>Hyderabad</td>\n",
       "      <td>0</td>\n",
       "    </tr>\n",
       "    <tr>\n",
       "      <th>1</th>\n",
       "      <td>OWNER</td>\n",
       "      <td>5.0</td>\n",
       "      <td>BHK</td>\n",
       "      <td>Villa</td>\n",
       "      <td>Sri Nagar Colony</td>\n",
       "      <td>36,000</td>\n",
       "      <td>3000.0</td>\n",
       "      <td>Semi-Furnished</td>\n",
       "      <td>4.0</td>\n",
       "      <td>Hyderabad</td>\n",
       "      <td>0</td>\n",
       "    </tr>\n",
       "    <tr>\n",
       "      <th>2</th>\n",
       "      <td>OWNER</td>\n",
       "      <td>2.0</td>\n",
       "      <td>BHK</td>\n",
       "      <td>Independent House</td>\n",
       "      <td>Shaikpet</td>\n",
       "      <td>11,000</td>\n",
       "      <td>900.0</td>\n",
       "      <td>Semi-Furnished</td>\n",
       "      <td>2.0</td>\n",
       "      <td>Hyderabad</td>\n",
       "      <td>0</td>\n",
       "    </tr>\n",
       "    <tr>\n",
       "      <th>3</th>\n",
       "      <td>OWNER</td>\n",
       "      <td>3.0</td>\n",
       "      <td>BHK</td>\n",
       "      <td>Apartment</td>\n",
       "      <td>Nanakramguda</td>\n",
       "      <td>45,000</td>\n",
       "      <td>2165.0</td>\n",
       "      <td>Unfurnished</td>\n",
       "      <td>3.0</td>\n",
       "      <td>Hyderabad</td>\n",
       "      <td>0</td>\n",
       "    </tr>\n",
       "    <tr>\n",
       "      <th>4</th>\n",
       "      <td>OWNER</td>\n",
       "      <td>3.0</td>\n",
       "      <td>BHK</td>\n",
       "      <td>Apartment</td>\n",
       "      <td>Kondapur</td>\n",
       "      <td>20,000</td>\n",
       "      <td>1600.0</td>\n",
       "      <td>Semi-Furnished</td>\n",
       "      <td>3.0</td>\n",
       "      <td>Hyderabad</td>\n",
       "      <td>0</td>\n",
       "    </tr>\n",
       "  </tbody>\n",
       "</table>\n",
       "</div>"
      ],
      "text/plain": [
       "  seller_type  bedroom layout_type      property_type          locality  \\\n",
       "0       OWNER      1.0          RK   Studio Apartment   Serilingampally   \n",
       "1       OWNER      5.0         BHK              Villa  Sri Nagar Colony   \n",
       "2       OWNER      2.0         BHK  Independent House          Shaikpet   \n",
       "3       OWNER      3.0         BHK          Apartment      Nanakramguda   \n",
       "4       OWNER      3.0         BHK          Apartment          Kondapur   \n",
       "\n",
       "    price    area    furnish_type  bathroom       city p2  \n",
       "0   6,720   320.0       Furnished       1.0  Hyderabad  0  \n",
       "1  36,000  3000.0  Semi-Furnished       4.0  Hyderabad  0  \n",
       "2  11,000   900.0  Semi-Furnished       2.0  Hyderabad  0  \n",
       "3  45,000  2165.0     Unfurnished       3.0  Hyderabad  0  \n",
       "4  20,000  1600.0  Semi-Furnished       3.0  Hyderabad  0  "
      ]
     },
     "execution_count": 27,
     "metadata": {},
     "output_type": "execute_result"
    }
   ],
   "source": [
    "df['p2'] = df['price'].apply(lambda x : '0' if ',' in x else '1')\n",
    "df.head()"
   ]
  },
  {
   "cell_type": "code",
   "execution_count": 28,
   "id": "34cbf683",
   "metadata": {},
   "outputs": [
    {
     "data": {
      "text/html": [
       "<div>\n",
       "<style scoped>\n",
       "    .dataframe tbody tr th:only-of-type {\n",
       "        vertical-align: middle;\n",
       "    }\n",
       "\n",
       "    .dataframe tbody tr th {\n",
       "        vertical-align: top;\n",
       "    }\n",
       "\n",
       "    .dataframe thead th {\n",
       "        text-align: right;\n",
       "    }\n",
       "</style>\n",
       "<table border=\"1\" class=\"dataframe\">\n",
       "  <thead>\n",
       "    <tr style=\"text-align: right;\">\n",
       "      <th></th>\n",
       "      <th>seller_type</th>\n",
       "      <th>bedroom</th>\n",
       "      <th>layout_type</th>\n",
       "      <th>property_type</th>\n",
       "      <th>locality</th>\n",
       "      <th>price</th>\n",
       "      <th>area</th>\n",
       "      <th>furnish_type</th>\n",
       "      <th>bathroom</th>\n",
       "      <th>city</th>\n",
       "      <th>p2</th>\n",
       "    </tr>\n",
       "  </thead>\n",
       "  <tbody>\n",
       "    <tr>\n",
       "      <th>0</th>\n",
       "      <td>OWNER</td>\n",
       "      <td>1.0</td>\n",
       "      <td>RK</td>\n",
       "      <td>Studio Apartment</td>\n",
       "      <td>Serilingampally</td>\n",
       "      <td>6720</td>\n",
       "      <td>320.0</td>\n",
       "      <td>Furnished</td>\n",
       "      <td>1.0</td>\n",
       "      <td>Hyderabad</td>\n",
       "      <td>0</td>\n",
       "    </tr>\n",
       "    <tr>\n",
       "      <th>1</th>\n",
       "      <td>OWNER</td>\n",
       "      <td>5.0</td>\n",
       "      <td>BHK</td>\n",
       "      <td>Villa</td>\n",
       "      <td>Sri Nagar Colony</td>\n",
       "      <td>36000</td>\n",
       "      <td>3000.0</td>\n",
       "      <td>Semi-Furnished</td>\n",
       "      <td>4.0</td>\n",
       "      <td>Hyderabad</td>\n",
       "      <td>0</td>\n",
       "    </tr>\n",
       "    <tr>\n",
       "      <th>2</th>\n",
       "      <td>OWNER</td>\n",
       "      <td>2.0</td>\n",
       "      <td>BHK</td>\n",
       "      <td>Independent House</td>\n",
       "      <td>Shaikpet</td>\n",
       "      <td>11000</td>\n",
       "      <td>900.0</td>\n",
       "      <td>Semi-Furnished</td>\n",
       "      <td>2.0</td>\n",
       "      <td>Hyderabad</td>\n",
       "      <td>0</td>\n",
       "    </tr>\n",
       "    <tr>\n",
       "      <th>3</th>\n",
       "      <td>OWNER</td>\n",
       "      <td>3.0</td>\n",
       "      <td>BHK</td>\n",
       "      <td>Apartment</td>\n",
       "      <td>Nanakramguda</td>\n",
       "      <td>45000</td>\n",
       "      <td>2165.0</td>\n",
       "      <td>Unfurnished</td>\n",
       "      <td>3.0</td>\n",
       "      <td>Hyderabad</td>\n",
       "      <td>0</td>\n",
       "    </tr>\n",
       "    <tr>\n",
       "      <th>4</th>\n",
       "      <td>OWNER</td>\n",
       "      <td>3.0</td>\n",
       "      <td>BHK</td>\n",
       "      <td>Apartment</td>\n",
       "      <td>Kondapur</td>\n",
       "      <td>20000</td>\n",
       "      <td>1600.0</td>\n",
       "      <td>Semi-Furnished</td>\n",
       "      <td>3.0</td>\n",
       "      <td>Hyderabad</td>\n",
       "      <td>0</td>\n",
       "    </tr>\n",
       "  </tbody>\n",
       "</table>\n",
       "</div>"
      ],
      "text/plain": [
       "  seller_type  bedroom layout_type      property_type          locality  \\\n",
       "0       OWNER      1.0          RK   Studio Apartment   Serilingampally   \n",
       "1       OWNER      5.0         BHK              Villa  Sri Nagar Colony   \n",
       "2       OWNER      2.0         BHK  Independent House          Shaikpet   \n",
       "3       OWNER      3.0         BHK          Apartment      Nanakramguda   \n",
       "4       OWNER      3.0         BHK          Apartment          Kondapur   \n",
       "\n",
       "   price    area    furnish_type  bathroom       city p2  \n",
       "0   6720   320.0       Furnished       1.0  Hyderabad  0  \n",
       "1  36000  3000.0  Semi-Furnished       4.0  Hyderabad  0  \n",
       "2  11000   900.0  Semi-Furnished       2.0  Hyderabad  0  \n",
       "3  45000  2165.0     Unfurnished       3.0  Hyderabad  0  \n",
       "4  20000  1600.0  Semi-Furnished       3.0  Hyderabad  0  "
      ]
     },
     "execution_count": 28,
     "metadata": {},
     "output_type": "execute_result"
    }
   ],
   "source": [
    "df['price'] = df['price'].str.replace(r'[^\\d.]+', '', regex=True)\n",
    "df.head()"
   ]
  },
  {
   "cell_type": "code",
   "execution_count": 29,
   "id": "5880bbc8",
   "metadata": {},
   "outputs": [
    {
     "data": {
      "text/html": [
       "<div>\n",
       "<style scoped>\n",
       "    .dataframe tbody tr th:only-of-type {\n",
       "        vertical-align: middle;\n",
       "    }\n",
       "\n",
       "    .dataframe tbody tr th {\n",
       "        vertical-align: top;\n",
       "    }\n",
       "\n",
       "    .dataframe thead th {\n",
       "        text-align: right;\n",
       "    }\n",
       "</style>\n",
       "<table border=\"1\" class=\"dataframe\">\n",
       "  <thead>\n",
       "    <tr style=\"text-align: right;\">\n",
       "      <th></th>\n",
       "      <th>seller_type</th>\n",
       "      <th>bedroom</th>\n",
       "      <th>layout_type</th>\n",
       "      <th>property_type</th>\n",
       "      <th>locality</th>\n",
       "      <th>price</th>\n",
       "      <th>area</th>\n",
       "      <th>furnish_type</th>\n",
       "      <th>bathroom</th>\n",
       "      <th>city</th>\n",
       "    </tr>\n",
       "  </thead>\n",
       "  <tbody>\n",
       "    <tr>\n",
       "      <th>0</th>\n",
       "      <td>OWNER</td>\n",
       "      <td>1.0</td>\n",
       "      <td>RK</td>\n",
       "      <td>Studio Apartment</td>\n",
       "      <td>Serilingampally</td>\n",
       "      <td>6720.0</td>\n",
       "      <td>320.0</td>\n",
       "      <td>Furnished</td>\n",
       "      <td>1.0</td>\n",
       "      <td>Hyderabad</td>\n",
       "    </tr>\n",
       "    <tr>\n",
       "      <th>1</th>\n",
       "      <td>OWNER</td>\n",
       "      <td>5.0</td>\n",
       "      <td>BHK</td>\n",
       "      <td>Villa</td>\n",
       "      <td>Sri Nagar Colony</td>\n",
       "      <td>36000.0</td>\n",
       "      <td>3000.0</td>\n",
       "      <td>Semi-Furnished</td>\n",
       "      <td>4.0</td>\n",
       "      <td>Hyderabad</td>\n",
       "    </tr>\n",
       "    <tr>\n",
       "      <th>2</th>\n",
       "      <td>OWNER</td>\n",
       "      <td>2.0</td>\n",
       "      <td>BHK</td>\n",
       "      <td>Independent House</td>\n",
       "      <td>Shaikpet</td>\n",
       "      <td>11000.0</td>\n",
       "      <td>900.0</td>\n",
       "      <td>Semi-Furnished</td>\n",
       "      <td>2.0</td>\n",
       "      <td>Hyderabad</td>\n",
       "    </tr>\n",
       "    <tr>\n",
       "      <th>3</th>\n",
       "      <td>OWNER</td>\n",
       "      <td>3.0</td>\n",
       "      <td>BHK</td>\n",
       "      <td>Apartment</td>\n",
       "      <td>Nanakramguda</td>\n",
       "      <td>45000.0</td>\n",
       "      <td>2165.0</td>\n",
       "      <td>Unfurnished</td>\n",
       "      <td>3.0</td>\n",
       "      <td>Hyderabad</td>\n",
       "    </tr>\n",
       "    <tr>\n",
       "      <th>4</th>\n",
       "      <td>OWNER</td>\n",
       "      <td>3.0</td>\n",
       "      <td>BHK</td>\n",
       "      <td>Apartment</td>\n",
       "      <td>Kondapur</td>\n",
       "      <td>20000.0</td>\n",
       "      <td>1600.0</td>\n",
       "      <td>Semi-Furnished</td>\n",
       "      <td>3.0</td>\n",
       "      <td>Hyderabad</td>\n",
       "    </tr>\n",
       "  </tbody>\n",
       "</table>\n",
       "</div>"
      ],
      "text/plain": [
       "  seller_type  bedroom layout_type      property_type          locality  \\\n",
       "0       OWNER      1.0          RK   Studio Apartment   Serilingampally   \n",
       "1       OWNER      5.0         BHK              Villa  Sri Nagar Colony   \n",
       "2       OWNER      2.0         BHK  Independent House          Shaikpet   \n",
       "3       OWNER      3.0         BHK          Apartment      Nanakramguda   \n",
       "4       OWNER      3.0         BHK          Apartment          Kondapur   \n",
       "\n",
       "     price    area    furnish_type  bathroom       city  \n",
       "0   6720.0   320.0       Furnished       1.0  Hyderabad  \n",
       "1  36000.0  3000.0  Semi-Furnished       4.0  Hyderabad  \n",
       "2  11000.0   900.0  Semi-Furnished       2.0  Hyderabad  \n",
       "3  45000.0  2165.0     Unfurnished       3.0  Hyderabad  \n",
       "4  20000.0  1600.0  Semi-Furnished       3.0  Hyderabad  "
      ]
     },
     "execution_count": 29,
     "metadata": {},
     "output_type": "execute_result"
    }
   ],
   "source": [
    "df['price'] = df['price'].astype('float64')\n",
    "df.loc[df.p2.str.contains('1'), 'price'] *= 100000.0\n",
    "df.drop('p2',axis=1,inplace=True)\n",
    "df.head()"
   ]
  },
  {
   "cell_type": "code",
   "execution_count": 30,
   "id": "edf6b15d",
   "metadata": {},
   "outputs": [
    {
     "data": {
      "text/html": [
       "<div>\n",
       "<style scoped>\n",
       "    .dataframe tbody tr th:only-of-type {\n",
       "        vertical-align: middle;\n",
       "    }\n",
       "\n",
       "    .dataframe tbody tr th {\n",
       "        vertical-align: top;\n",
       "    }\n",
       "\n",
       "    .dataframe thead th {\n",
       "        text-align: right;\n",
       "    }\n",
       "</style>\n",
       "<table border=\"1\" class=\"dataframe\">\n",
       "  <thead>\n",
       "    <tr style=\"text-align: right;\">\n",
       "      <th></th>\n",
       "      <th>seller_type</th>\n",
       "      <th>bedroom</th>\n",
       "      <th>layout_type</th>\n",
       "      <th>property_type</th>\n",
       "      <th>locality</th>\n",
       "      <th>price</th>\n",
       "      <th>area</th>\n",
       "      <th>furnish_type</th>\n",
       "      <th>bathroom</th>\n",
       "      <th>city</th>\n",
       "    </tr>\n",
       "  </thead>\n",
       "  <tbody>\n",
       "    <tr>\n",
       "      <th>0</th>\n",
       "      <td>OWNER</td>\n",
       "      <td>1.0</td>\n",
       "      <td>RK</td>\n",
       "      <td>Studio Apartment</td>\n",
       "      <td>Serilingampally</td>\n",
       "      <td>6870.192</td>\n",
       "      <td>320.0</td>\n",
       "      <td>Furnished</td>\n",
       "      <td>1.0</td>\n",
       "      <td>Hyderabad</td>\n",
       "    </tr>\n",
       "    <tr>\n",
       "      <th>1</th>\n",
       "      <td>OWNER</td>\n",
       "      <td>5.0</td>\n",
       "      <td>BHK</td>\n",
       "      <td>Villa</td>\n",
       "      <td>Sri Nagar Colony</td>\n",
       "      <td>36804.600</td>\n",
       "      <td>3000.0</td>\n",
       "      <td>Semi-Furnished</td>\n",
       "      <td>4.0</td>\n",
       "      <td>Hyderabad</td>\n",
       "    </tr>\n",
       "    <tr>\n",
       "      <th>2</th>\n",
       "      <td>OWNER</td>\n",
       "      <td>2.0</td>\n",
       "      <td>BHK</td>\n",
       "      <td>Independent House</td>\n",
       "      <td>Shaikpet</td>\n",
       "      <td>11245.850</td>\n",
       "      <td>900.0</td>\n",
       "      <td>Semi-Furnished</td>\n",
       "      <td>2.0</td>\n",
       "      <td>Hyderabad</td>\n",
       "    </tr>\n",
       "    <tr>\n",
       "      <th>3</th>\n",
       "      <td>OWNER</td>\n",
       "      <td>3.0</td>\n",
       "      <td>BHK</td>\n",
       "      <td>Apartment</td>\n",
       "      <td>Nanakramguda</td>\n",
       "      <td>46005.750</td>\n",
       "      <td>2165.0</td>\n",
       "      <td>Unfurnished</td>\n",
       "      <td>3.0</td>\n",
       "      <td>Hyderabad</td>\n",
       "    </tr>\n",
       "    <tr>\n",
       "      <th>4</th>\n",
       "      <td>OWNER</td>\n",
       "      <td>3.0</td>\n",
       "      <td>BHK</td>\n",
       "      <td>Apartment</td>\n",
       "      <td>Kondapur</td>\n",
       "      <td>20447.000</td>\n",
       "      <td>1600.0</td>\n",
       "      <td>Semi-Furnished</td>\n",
       "      <td>3.0</td>\n",
       "      <td>Hyderabad</td>\n",
       "    </tr>\n",
       "  </tbody>\n",
       "</table>\n",
       "</div>"
      ],
      "text/plain": [
       "  seller_type  bedroom layout_type      property_type          locality  \\\n",
       "0       OWNER      1.0          RK   Studio Apartment   Serilingampally   \n",
       "1       OWNER      5.0         BHK              Villa  Sri Nagar Colony   \n",
       "2       OWNER      2.0         BHK  Independent House          Shaikpet   \n",
       "3       OWNER      3.0         BHK          Apartment      Nanakramguda   \n",
       "4       OWNER      3.0         BHK          Apartment          Kondapur   \n",
       "\n",
       "       price    area    furnish_type  bathroom       city  \n",
       "0   6870.192   320.0       Furnished       1.0  Hyderabad  \n",
       "1  36804.600  3000.0  Semi-Furnished       4.0  Hyderabad  \n",
       "2  11245.850   900.0  Semi-Furnished       2.0  Hyderabad  \n",
       "3  46005.750  2165.0     Unfurnished       3.0  Hyderabad  \n",
       "4  20447.000  1600.0  Semi-Furnished       3.0  Hyderabad  "
      ]
     },
     "execution_count": 30,
     "metadata": {},
     "output_type": "execute_result"
    }
   ],
   "source": [
    "inflation = 4.47/100\n",
    "df['price']=df['price']+(df['price']*inflation*6/12)\n",
    "df.head()"
   ]
  },
  {
   "cell_type": "code",
   "execution_count": 31,
   "id": "2fb8c104",
   "metadata": {
    "scrolled": true
   },
   "outputs": [],
   "source": [
    "df['locality'] = df['locality'].apply(str.lower)"
   ]
  },
  {
   "cell_type": "code",
   "execution_count": 32,
   "id": "1e553213",
   "metadata": {},
   "outputs": [],
   "source": [
    "locality_c = df.groupby('locality').size().sort_values(ascending=True)"
   ]
  },
  {
   "cell_type": "code",
   "execution_count": 33,
   "id": "5aff421b",
   "metadata": {
    "scrolled": true
   },
   "outputs": [
    {
     "name": "stdout",
     "output_type": "stream",
     "text": [
      "no of localities with houses less than  1 is  0\n",
      "no of localities with houses less than  2 is  1027\n",
      "no of localities with houses less than  3 is  1582\n",
      "no of localities with houses less than  4 is  1844\n",
      "no of localities with houses less than  5 is  2008\n",
      "no of localities with houses less than  6 is  2138\n",
      "no of localities with houses less than  7 is  2239\n",
      "no of localities with houses less than  8 is  2308\n",
      "no of localities with houses less than  9 is  2375\n",
      "no of localities with houses less than  10 is  2424\n"
     ]
    }
   ],
   "source": [
    "for i in range(1,11):\n",
    "    print('no of localities with houses less than ',i,'is ',len(locality_c[locality_c<i]))\n",
    "    "
   ]
  },
  {
   "cell_type": "code",
   "execution_count": 34,
   "id": "84340062",
   "metadata": {},
   "outputs": [],
   "source": [
    "loc_10=locality_c[locality_c<7]"
   ]
  },
  {
   "cell_type": "code",
   "execution_count": 35,
   "id": "08fe4084",
   "metadata": {},
   "outputs": [],
   "source": [
    "df.locality = df.locality.apply(lambda x: 'other' if x in loc_10 else x)"
   ]
  },
  {
   "cell_type": "code",
   "execution_count": 36,
   "id": "6fec2e50",
   "metadata": {},
   "outputs": [],
   "source": [
    "df=df[(df['price']<75000) & (df['bathroom']<7) & (df['bedroom']<7) & (df['area']<10000)]"
   ]
  },
  {
   "cell_type": "code",
   "execution_count": 37,
   "id": "08cdc6dd",
   "metadata": {},
   "outputs": [
    {
     "data": {
      "text/html": [
       "<div>\n",
       "<style scoped>\n",
       "    .dataframe tbody tr th:only-of-type {\n",
       "        vertical-align: middle;\n",
       "    }\n",
       "\n",
       "    .dataframe tbody tr th {\n",
       "        vertical-align: top;\n",
       "    }\n",
       "\n",
       "    .dataframe thead th {\n",
       "        text-align: right;\n",
       "    }\n",
       "</style>\n",
       "<table border=\"1\" class=\"dataframe\">\n",
       "  <thead>\n",
       "    <tr style=\"text-align: right;\">\n",
       "      <th></th>\n",
       "      <th>seller_type</th>\n",
       "      <th>bedroom</th>\n",
       "      <th>layout_type</th>\n",
       "      <th>property_type</th>\n",
       "      <th>locality</th>\n",
       "      <th>price</th>\n",
       "      <th>area</th>\n",
       "      <th>furnish_type</th>\n",
       "      <th>bathroom</th>\n",
       "      <th>city</th>\n",
       "    </tr>\n",
       "  </thead>\n",
       "  <tbody>\n",
       "    <tr>\n",
       "      <th>0</th>\n",
       "      <td>OWNER</td>\n",
       "      <td>1.0</td>\n",
       "      <td>RK</td>\n",
       "      <td>Studio Apartment</td>\n",
       "      <td>serilingampally</td>\n",
       "      <td>6870.192</td>\n",
       "      <td>320.0</td>\n",
       "      <td>Furnished</td>\n",
       "      <td>1.0</td>\n",
       "      <td>Hyderabad</td>\n",
       "    </tr>\n",
       "    <tr>\n",
       "      <th>1</th>\n",
       "      <td>OWNER</td>\n",
       "      <td>5.0</td>\n",
       "      <td>BHK</td>\n",
       "      <td>Villa</td>\n",
       "      <td>sri nagar colony</td>\n",
       "      <td>36804.600</td>\n",
       "      <td>3000.0</td>\n",
       "      <td>Semi-Furnished</td>\n",
       "      <td>4.0</td>\n",
       "      <td>Hyderabad</td>\n",
       "    </tr>\n",
       "    <tr>\n",
       "      <th>2</th>\n",
       "      <td>OWNER</td>\n",
       "      <td>2.0</td>\n",
       "      <td>BHK</td>\n",
       "      <td>Independent House</td>\n",
       "      <td>shaikpet</td>\n",
       "      <td>11245.850</td>\n",
       "      <td>900.0</td>\n",
       "      <td>Semi-Furnished</td>\n",
       "      <td>2.0</td>\n",
       "      <td>Hyderabad</td>\n",
       "    </tr>\n",
       "    <tr>\n",
       "      <th>3</th>\n",
       "      <td>OWNER</td>\n",
       "      <td>3.0</td>\n",
       "      <td>BHK</td>\n",
       "      <td>Apartment</td>\n",
       "      <td>nanakramguda</td>\n",
       "      <td>46005.750</td>\n",
       "      <td>2165.0</td>\n",
       "      <td>Unfurnished</td>\n",
       "      <td>3.0</td>\n",
       "      <td>Hyderabad</td>\n",
       "    </tr>\n",
       "    <tr>\n",
       "      <th>4</th>\n",
       "      <td>OWNER</td>\n",
       "      <td>3.0</td>\n",
       "      <td>BHK</td>\n",
       "      <td>Apartment</td>\n",
       "      <td>kondapur</td>\n",
       "      <td>20447.000</td>\n",
       "      <td>1600.0</td>\n",
       "      <td>Semi-Furnished</td>\n",
       "      <td>3.0</td>\n",
       "      <td>Hyderabad</td>\n",
       "    </tr>\n",
       "  </tbody>\n",
       "</table>\n",
       "</div>"
      ],
      "text/plain": [
       "  seller_type  bedroom layout_type      property_type          locality  \\\n",
       "0       OWNER      1.0          RK   Studio Apartment   serilingampally   \n",
       "1       OWNER      5.0         BHK              Villa  sri nagar colony   \n",
       "2       OWNER      2.0         BHK  Independent House          shaikpet   \n",
       "3       OWNER      3.0         BHK          Apartment      nanakramguda   \n",
       "4       OWNER      3.0         BHK          Apartment          kondapur   \n",
       "\n",
       "       price    area    furnish_type  bathroom       city  \n",
       "0   6870.192   320.0       Furnished       1.0  Hyderabad  \n",
       "1  36804.600  3000.0  Semi-Furnished       4.0  Hyderabad  \n",
       "2  11245.850   900.0  Semi-Furnished       2.0  Hyderabad  \n",
       "3  46005.750  2165.0     Unfurnished       3.0  Hyderabad  \n",
       "4  20447.000  1600.0  Semi-Furnished       3.0  Hyderabad  "
      ]
     },
     "execution_count": 37,
     "metadata": {},
     "output_type": "execute_result"
    }
   ],
   "source": [
    "df.head()"
   ]
  },
  {
   "cell_type": "code",
   "execution_count": 38,
   "id": "d69fa880",
   "metadata": {},
   "outputs": [],
   "source": [
    "df2=df.copy()"
   ]
  },
  {
   "cell_type": "code",
   "execution_count": 39,
   "id": "85bc2dde",
   "metadata": {},
   "outputs": [],
   "source": [
    "# converting categorical data into numeric data\n",
    "enc=LabelEncoder()"
   ]
  },
  {
   "cell_type": "code",
   "execution_count": 40,
   "id": "5f7bf9a3",
   "metadata": {},
   "outputs": [],
   "source": [
    "seller_type=enc.fit_transform(df['seller_type'])\n",
    "layout_type=enc.fit_transform(df['layout_type'])\n",
    "property_type=enc.fit_transform(df['property_type'])\n",
    "locality=enc.fit_transform(df['locality'])\n",
    "furnish_type=enc.fit_transform(df['furnish_type'])\n",
    "city=enc.fit_transform(df['city'])"
   ]
  },
  {
   "cell_type": "code",
   "execution_count": 41,
   "id": "58fc02b1",
   "metadata": {},
   "outputs": [],
   "source": [
    "df['seller_type']=seller_type\n",
    "df['layout_type']=layout_type\n",
    "df['property_type']=property_type\n",
    "df['locality']=locality\n",
    "df['furnish_type']=furnish_type\n",
    "df['city']=city"
   ]
  },
  {
   "cell_type": "code",
   "execution_count": 42,
   "id": "f3135f53",
   "metadata": {},
   "outputs": [],
   "source": [
    "idx = pd.RangeIndex(start=0, stop=len(df), step=1)\n",
    "df.index = idx"
   ]
  },
  {
   "cell_type": "code",
   "execution_count": 43,
   "id": "48d6178f",
   "metadata": {
    "scrolled": false
   },
   "outputs": [
    {
     "name": "stdout",
     "output_type": "stream",
     "text": [
      "<class 'pandas.core.frame.DataFrame'>\n",
      "RangeIndex: 132220 entries, 0 to 132219\n",
      "Data columns (total 10 columns):\n",
      " #   Column         Non-Null Count   Dtype  \n",
      "---  ------         --------------   -----  \n",
      " 0   seller_type    132220 non-null  int32  \n",
      " 1   bedroom        132220 non-null  float64\n",
      " 2   layout_type    132220 non-null  int32  \n",
      " 3   property_type  132220 non-null  int32  \n",
      " 4   locality       132220 non-null  int32  \n",
      " 5   price          132220 non-null  float64\n",
      " 6   area           132220 non-null  float64\n",
      " 7   furnish_type   132220 non-null  int32  \n",
      " 8   bathroom       132220 non-null  float64\n",
      " 9   city           132220 non-null  int32  \n",
      "dtypes: float64(4), int32(6)\n",
      "memory usage: 7.1 MB\n"
     ]
    }
   ],
   "source": [
    "df.info()"
   ]
  },
  {
   "cell_type": "code",
   "execution_count": 44,
   "id": "798e00ef",
   "metadata": {
    "scrolled": true
   },
   "outputs": [
    {
     "data": {
      "text/html": [
       "<div>\n",
       "<style scoped>\n",
       "    .dataframe tbody tr th:only-of-type {\n",
       "        vertical-align: middle;\n",
       "    }\n",
       "\n",
       "    .dataframe tbody tr th {\n",
       "        vertical-align: top;\n",
       "    }\n",
       "\n",
       "    .dataframe thead th {\n",
       "        text-align: right;\n",
       "    }\n",
       "</style>\n",
       "<table border=\"1\" class=\"dataframe\">\n",
       "  <thead>\n",
       "    <tr style=\"text-align: right;\">\n",
       "      <th></th>\n",
       "      <th>seller_type</th>\n",
       "      <th>bedroom</th>\n",
       "      <th>layout_type</th>\n",
       "      <th>property_type</th>\n",
       "      <th>locality</th>\n",
       "      <th>price</th>\n",
       "      <th>area</th>\n",
       "      <th>furnish_type</th>\n",
       "      <th>bathroom</th>\n",
       "      <th>city</th>\n",
       "    </tr>\n",
       "  </thead>\n",
       "  <tbody>\n",
       "    <tr>\n",
       "      <th>0</th>\n",
       "      <td>2</td>\n",
       "      <td>1.0</td>\n",
       "      <td>1</td>\n",
       "      <td>3</td>\n",
       "      <td>1032</td>\n",
       "      <td>6870.192</td>\n",
       "      <td>320.0</td>\n",
       "      <td>0</td>\n",
       "      <td>1.0</td>\n",
       "      <td>3</td>\n",
       "    </tr>\n",
       "    <tr>\n",
       "      <th>1</th>\n",
       "      <td>2</td>\n",
       "      <td>5.0</td>\n",
       "      <td>0</td>\n",
       "      <td>4</td>\n",
       "      <td>1077</td>\n",
       "      <td>36804.600</td>\n",
       "      <td>3000.0</td>\n",
       "      <td>1</td>\n",
       "      <td>4.0</td>\n",
       "      <td>3</td>\n",
       "    </tr>\n",
       "    <tr>\n",
       "      <th>2</th>\n",
       "      <td>2</td>\n",
       "      <td>2.0</td>\n",
       "      <td>0</td>\n",
       "      <td>2</td>\n",
       "      <td>1040</td>\n",
       "      <td>11245.850</td>\n",
       "      <td>900.0</td>\n",
       "      <td>1</td>\n",
       "      <td>2.0</td>\n",
       "      <td>3</td>\n",
       "    </tr>\n",
       "    <tr>\n",
       "      <th>3</th>\n",
       "      <td>2</td>\n",
       "      <td>3.0</td>\n",
       "      <td>0</td>\n",
       "      <td>0</td>\n",
       "      <td>744</td>\n",
       "      <td>46005.750</td>\n",
       "      <td>2165.0</td>\n",
       "      <td>2</td>\n",
       "      <td>3.0</td>\n",
       "      <td>3</td>\n",
       "    </tr>\n",
       "    <tr>\n",
       "      <th>4</th>\n",
       "      <td>2</td>\n",
       "      <td>3.0</td>\n",
       "      <td>0</td>\n",
       "      <td>0</td>\n",
       "      <td>554</td>\n",
       "      <td>20447.000</td>\n",
       "      <td>1600.0</td>\n",
       "      <td>1</td>\n",
       "      <td>3.0</td>\n",
       "      <td>3</td>\n",
       "    </tr>\n",
       "    <tr>\n",
       "      <th>5</th>\n",
       "      <td>2</td>\n",
       "      <td>1.0</td>\n",
       "      <td>0</td>\n",
       "      <td>2</td>\n",
       "      <td>658</td>\n",
       "      <td>5111.750</td>\n",
       "      <td>600.0</td>\n",
       "      <td>2</td>\n",
       "      <td>1.0</td>\n",
       "      <td>3</td>\n",
       "    </tr>\n",
       "    <tr>\n",
       "      <th>6</th>\n",
       "      <td>2</td>\n",
       "      <td>2.0</td>\n",
       "      <td>0</td>\n",
       "      <td>0</td>\n",
       "      <td>656</td>\n",
       "      <td>12268.200</td>\n",
       "      <td>1165.0</td>\n",
       "      <td>0</td>\n",
       "      <td>2.0</td>\n",
       "      <td>3</td>\n",
       "    </tr>\n",
       "    <tr>\n",
       "      <th>7</th>\n",
       "      <td>2</td>\n",
       "      <td>3.0</td>\n",
       "      <td>0</td>\n",
       "      <td>2</td>\n",
       "      <td>442</td>\n",
       "      <td>61341.000</td>\n",
       "      <td>3000.0</td>\n",
       "      <td>1</td>\n",
       "      <td>3.0</td>\n",
       "      <td>3</td>\n",
       "    </tr>\n",
       "    <tr>\n",
       "      <th>8</th>\n",
       "      <td>2</td>\n",
       "      <td>2.0</td>\n",
       "      <td>0</td>\n",
       "      <td>1</td>\n",
       "      <td>554</td>\n",
       "      <td>17379.950</td>\n",
       "      <td>900.0</td>\n",
       "      <td>1</td>\n",
       "      <td>2.0</td>\n",
       "      <td>3</td>\n",
       "    </tr>\n",
       "    <tr>\n",
       "      <th>9</th>\n",
       "      <td>2</td>\n",
       "      <td>2.0</td>\n",
       "      <td>0</td>\n",
       "      <td>0</td>\n",
       "      <td>554</td>\n",
       "      <td>22491.700</td>\n",
       "      <td>1400.0</td>\n",
       "      <td>1</td>\n",
       "      <td>2.0</td>\n",
       "      <td>3</td>\n",
       "    </tr>\n",
       "  </tbody>\n",
       "</table>\n",
       "</div>"
      ],
      "text/plain": [
       "   seller_type  bedroom  layout_type  property_type  locality      price  \\\n",
       "0            2      1.0            1              3      1032   6870.192   \n",
       "1            2      5.0            0              4      1077  36804.600   \n",
       "2            2      2.0            0              2      1040  11245.850   \n",
       "3            2      3.0            0              0       744  46005.750   \n",
       "4            2      3.0            0              0       554  20447.000   \n",
       "5            2      1.0            0              2       658   5111.750   \n",
       "6            2      2.0            0              0       656  12268.200   \n",
       "7            2      3.0            0              2       442  61341.000   \n",
       "8            2      2.0            0              1       554  17379.950   \n",
       "9            2      2.0            0              0       554  22491.700   \n",
       "\n",
       "     area  furnish_type  bathroom  city  \n",
       "0   320.0             0       1.0     3  \n",
       "1  3000.0             1       4.0     3  \n",
       "2   900.0             1       2.0     3  \n",
       "3  2165.0             2       3.0     3  \n",
       "4  1600.0             1       3.0     3  \n",
       "5   600.0             2       1.0     3  \n",
       "6  1165.0             0       2.0     3  \n",
       "7  3000.0             1       3.0     3  \n",
       "8   900.0             1       2.0     3  \n",
       "9  1400.0             1       2.0     3  "
      ]
     },
     "execution_count": 44,
     "metadata": {},
     "output_type": "execute_result"
    }
   ],
   "source": [
    "df.head(10)"
   ]
  },
  {
   "cell_type": "code",
   "execution_count": 45,
   "id": "c5d6195a",
   "metadata": {
    "scrolled": true
   },
   "outputs": [
    {
     "data": {
      "text/html": [
       "<div>\n",
       "<style scoped>\n",
       "    .dataframe tbody tr th:only-of-type {\n",
       "        vertical-align: middle;\n",
       "    }\n",
       "\n",
       "    .dataframe tbody tr th {\n",
       "        vertical-align: top;\n",
       "    }\n",
       "\n",
       "    .dataframe thead th {\n",
       "        text-align: right;\n",
       "    }\n",
       "</style>\n",
       "<table border=\"1\" class=\"dataframe\">\n",
       "  <thead>\n",
       "    <tr style=\"text-align: right;\">\n",
       "      <th></th>\n",
       "      <th>seller_type</th>\n",
       "      <th>bedroom</th>\n",
       "      <th>layout_type</th>\n",
       "      <th>property_type</th>\n",
       "      <th>locality</th>\n",
       "      <th>price</th>\n",
       "      <th>area</th>\n",
       "      <th>furnish_type</th>\n",
       "      <th>bathroom</th>\n",
       "      <th>city</th>\n",
       "    </tr>\n",
       "  </thead>\n",
       "  <tbody>\n",
       "    <tr>\n",
       "      <th>count</th>\n",
       "      <td>132220.000000</td>\n",
       "      <td>132220.000000</td>\n",
       "      <td>132220.000000</td>\n",
       "      <td>132220.000000</td>\n",
       "      <td>132220.000000</td>\n",
       "      <td>132220.000000</td>\n",
       "      <td>132220.000000</td>\n",
       "      <td>132220.000000</td>\n",
       "      <td>132220.000000</td>\n",
       "      <td>132220.000000</td>\n",
       "    </tr>\n",
       "    <tr>\n",
       "      <th>mean</th>\n",
       "      <td>0.476781</td>\n",
       "      <td>1.855302</td>\n",
       "      <td>0.060770</td>\n",
       "      <td>0.507238</td>\n",
       "      <td>613.010906</td>\n",
       "      <td>24241.501681</td>\n",
       "      <td>973.994834</td>\n",
       "      <td>1.108108</td>\n",
       "      <td>1.822092</td>\n",
       "      <td>3.144766</td>\n",
       "    </tr>\n",
       "    <tr>\n",
       "      <th>std</th>\n",
       "      <td>0.848279</td>\n",
       "      <td>0.784687</td>\n",
       "      <td>0.238909</td>\n",
       "      <td>0.912438</td>\n",
       "      <td>355.863048</td>\n",
       "      <td>15501.857612</td>\n",
       "      <td>495.368878</td>\n",
       "      <td>0.666285</td>\n",
       "      <td>0.715753</td>\n",
       "      <td>1.943865</td>\n",
       "    </tr>\n",
       "    <tr>\n",
       "      <th>min</th>\n",
       "      <td>0.000000</td>\n",
       "      <td>1.000000</td>\n",
       "      <td>0.000000</td>\n",
       "      <td>0.000000</td>\n",
       "      <td>0.000000</td>\n",
       "      <td>1226.820000</td>\n",
       "      <td>3.000000</td>\n",
       "      <td>0.000000</td>\n",
       "      <td>1.000000</td>\n",
       "      <td>0.000000</td>\n",
       "    </tr>\n",
       "    <tr>\n",
       "      <th>25%</th>\n",
       "      <td>0.000000</td>\n",
       "      <td>1.000000</td>\n",
       "      <td>0.000000</td>\n",
       "      <td>0.000000</td>\n",
       "      <td>310.000000</td>\n",
       "      <td>12268.200000</td>\n",
       "      <td>600.000000</td>\n",
       "      <td>1.000000</td>\n",
       "      <td>1.000000</td>\n",
       "      <td>2.000000</td>\n",
       "    </tr>\n",
       "    <tr>\n",
       "      <th>50%</th>\n",
       "      <td>0.000000</td>\n",
       "      <td>2.000000</td>\n",
       "      <td>0.000000</td>\n",
       "      <td>0.000000</td>\n",
       "      <td>599.000000</td>\n",
       "      <td>20447.000000</td>\n",
       "      <td>900.000000</td>\n",
       "      <td>1.000000</td>\n",
       "      <td>2.000000</td>\n",
       "      <td>4.000000</td>\n",
       "    </tr>\n",
       "    <tr>\n",
       "      <th>75%</th>\n",
       "      <td>0.000000</td>\n",
       "      <td>2.000000</td>\n",
       "      <td>0.000000</td>\n",
       "      <td>1.000000</td>\n",
       "      <td>904.000000</td>\n",
       "      <td>32715.200000</td>\n",
       "      <td>1200.000000</td>\n",
       "      <td>2.000000</td>\n",
       "      <td>2.000000</td>\n",
       "      <td>5.000000</td>\n",
       "    </tr>\n",
       "    <tr>\n",
       "      <th>max</th>\n",
       "      <td>2.000000</td>\n",
       "      <td>6.000000</td>\n",
       "      <td>1.000000</td>\n",
       "      <td>4.000000</td>\n",
       "      <td>1237.000000</td>\n",
       "      <td>74631.550000</td>\n",
       "      <td>7000.000000</td>\n",
       "      <td>2.000000</td>\n",
       "      <td>6.000000</td>\n",
       "      <td>5.000000</td>\n",
       "    </tr>\n",
       "  </tbody>\n",
       "</table>\n",
       "</div>"
      ],
      "text/plain": [
       "         seller_type        bedroom    layout_type  property_type  \\\n",
       "count  132220.000000  132220.000000  132220.000000  132220.000000   \n",
       "mean        0.476781       1.855302       0.060770       0.507238   \n",
       "std         0.848279       0.784687       0.238909       0.912438   \n",
       "min         0.000000       1.000000       0.000000       0.000000   \n",
       "25%         0.000000       1.000000       0.000000       0.000000   \n",
       "50%         0.000000       2.000000       0.000000       0.000000   \n",
       "75%         0.000000       2.000000       0.000000       1.000000   \n",
       "max         2.000000       6.000000       1.000000       4.000000   \n",
       "\n",
       "            locality          price           area   furnish_type  \\\n",
       "count  132220.000000  132220.000000  132220.000000  132220.000000   \n",
       "mean      613.010906   24241.501681     973.994834       1.108108   \n",
       "std       355.863048   15501.857612     495.368878       0.666285   \n",
       "min         0.000000    1226.820000       3.000000       0.000000   \n",
       "25%       310.000000   12268.200000     600.000000       1.000000   \n",
       "50%       599.000000   20447.000000     900.000000       1.000000   \n",
       "75%       904.000000   32715.200000    1200.000000       2.000000   \n",
       "max      1237.000000   74631.550000    7000.000000       2.000000   \n",
       "\n",
       "            bathroom           city  \n",
       "count  132220.000000  132220.000000  \n",
       "mean        1.822092       3.144766  \n",
       "std         0.715753       1.943865  \n",
       "min         1.000000       0.000000  \n",
       "25%         1.000000       2.000000  \n",
       "50%         2.000000       4.000000  \n",
       "75%         2.000000       5.000000  \n",
       "max         6.000000       5.000000  "
      ]
     },
     "execution_count": 45,
     "metadata": {},
     "output_type": "execute_result"
    }
   ],
   "source": [
    "df.describe()"
   ]
  },
  {
   "cell_type": "code",
   "execution_count": 46,
   "id": "9cd96e0e",
   "metadata": {},
   "outputs": [
    {
     "name": "stdout",
     "output_type": "stream",
     "text": [
      "<class 'pandas.core.frame.DataFrame'>\n",
      "RangeIndex: 132220 entries, 0 to 132219\n",
      "Data columns (total 10 columns):\n",
      " #   Column         Non-Null Count   Dtype  \n",
      "---  ------         --------------   -----  \n",
      " 0   seller_type    132220 non-null  int32  \n",
      " 1   bedroom        132220 non-null  float64\n",
      " 2   layout_type    132220 non-null  int32  \n",
      " 3   property_type  132220 non-null  int32  \n",
      " 4   locality       132220 non-null  int32  \n",
      " 5   price          132220 non-null  float64\n",
      " 6   area           132220 non-null  float64\n",
      " 7   furnish_type   132220 non-null  int32  \n",
      " 8   bathroom       132220 non-null  float64\n",
      " 9   city           132220 non-null  int32  \n",
      "dtypes: float64(4), int32(6)\n",
      "memory usage: 7.1 MB\n"
     ]
    }
   ],
   "source": [
    "df.info()"
   ]
  },
  {
   "cell_type": "code",
   "execution_count": 47,
   "id": "2446bd80",
   "metadata": {},
   "outputs": [],
   "source": [
    "#After Data Preprocessing"
   ]
  },
  {
   "cell_type": "code",
   "execution_count": 48,
   "id": "34325cec",
   "metadata": {},
   "outputs": [
    {
     "data": {
      "text/plain": [
       "(132220, 10)"
      ]
     },
     "execution_count": 48,
     "metadata": {},
     "output_type": "execute_result"
    }
   ],
   "source": [
    "df.shape"
   ]
  },
  {
   "cell_type": "code",
   "execution_count": 49,
   "id": "15adf253",
   "metadata": {},
   "outputs": [
    {
     "data": {
      "text/html": [
       "<div>\n",
       "<style scoped>\n",
       "    .dataframe tbody tr th:only-of-type {\n",
       "        vertical-align: middle;\n",
       "    }\n",
       "\n",
       "    .dataframe tbody tr th {\n",
       "        vertical-align: top;\n",
       "    }\n",
       "\n",
       "    .dataframe thead th {\n",
       "        text-align: right;\n",
       "    }\n",
       "</style>\n",
       "<table border=\"1\" class=\"dataframe\">\n",
       "  <thead>\n",
       "    <tr style=\"text-align: right;\">\n",
       "      <th></th>\n",
       "      <th>seller_type</th>\n",
       "      <th>bedroom</th>\n",
       "      <th>layout_type</th>\n",
       "      <th>property_type</th>\n",
       "      <th>locality</th>\n",
       "      <th>price</th>\n",
       "      <th>area</th>\n",
       "      <th>furnish_type</th>\n",
       "      <th>bathroom</th>\n",
       "      <th>city</th>\n",
       "    </tr>\n",
       "  </thead>\n",
       "  <tbody>\n",
       "    <tr>\n",
       "      <th>seller_type</th>\n",
       "      <td>1.000000</td>\n",
       "      <td>-0.034635</td>\n",
       "      <td>0.072962</td>\n",
       "      <td>0.250540</td>\n",
       "      <td>0.001767</td>\n",
       "      <td>-0.283165</td>\n",
       "      <td>-0.054221</td>\n",
       "      <td>0.050179</td>\n",
       "      <td>-0.102503</td>\n",
       "      <td>-0.288936</td>\n",
       "    </tr>\n",
       "    <tr>\n",
       "      <th>bedroom</th>\n",
       "      <td>-0.034635</td>\n",
       "      <td>1.000000</td>\n",
       "      <td>-0.277177</td>\n",
       "      <td>-0.165683</td>\n",
       "      <td>0.075980</td>\n",
       "      <td>0.487996</td>\n",
       "      <td>0.802696</td>\n",
       "      <td>-0.118255</td>\n",
       "      <td>0.791860</td>\n",
       "      <td>-0.173075</td>\n",
       "    </tr>\n",
       "    <tr>\n",
       "      <th>layout_type</th>\n",
       "      <td>0.072962</td>\n",
       "      <td>-0.277177</td>\n",
       "      <td>1.000000</td>\n",
       "      <td>0.694924</td>\n",
       "      <td>-0.008871</td>\n",
       "      <td>-0.213222</td>\n",
       "      <td>-0.296756</td>\n",
       "      <td>0.021160</td>\n",
       "      <td>-0.272431</td>\n",
       "      <td>0.022325</td>\n",
       "    </tr>\n",
       "    <tr>\n",
       "      <th>property_type</th>\n",
       "      <td>0.250540</td>\n",
       "      <td>-0.165683</td>\n",
       "      <td>0.694924</td>\n",
       "      <td>1.000000</td>\n",
       "      <td>0.009879</td>\n",
       "      <td>-0.272940</td>\n",
       "      <td>-0.159630</td>\n",
       "      <td>0.001537</td>\n",
       "      <td>-0.220154</td>\n",
       "      <td>-0.282801</td>\n",
       "    </tr>\n",
       "    <tr>\n",
       "      <th>locality</th>\n",
       "      <td>0.001767</td>\n",
       "      <td>0.075980</td>\n",
       "      <td>-0.008871</td>\n",
       "      <td>0.009879</td>\n",
       "      <td>1.000000</td>\n",
       "      <td>-0.082606</td>\n",
       "      <td>0.058483</td>\n",
       "      <td>-0.010646</td>\n",
       "      <td>0.052402</td>\n",
       "      <td>-0.050140</td>\n",
       "    </tr>\n",
       "    <tr>\n",
       "      <th>price</th>\n",
       "      <td>-0.283165</td>\n",
       "      <td>0.487996</td>\n",
       "      <td>-0.213222</td>\n",
       "      <td>-0.272940</td>\n",
       "      <td>-0.082606</td>\n",
       "      <td>1.000000</td>\n",
       "      <td>0.516461</td>\n",
       "      <td>-0.267975</td>\n",
       "      <td>0.530335</td>\n",
       "      <td>0.213709</td>\n",
       "    </tr>\n",
       "    <tr>\n",
       "      <th>area</th>\n",
       "      <td>-0.054221</td>\n",
       "      <td>0.802696</td>\n",
       "      <td>-0.296756</td>\n",
       "      <td>-0.159630</td>\n",
       "      <td>0.058483</td>\n",
       "      <td>0.516461</td>\n",
       "      <td>1.000000</td>\n",
       "      <td>-0.152711</td>\n",
       "      <td>0.743415</td>\n",
       "      <td>-0.209197</td>\n",
       "    </tr>\n",
       "    <tr>\n",
       "      <th>furnish_type</th>\n",
       "      <td>0.050179</td>\n",
       "      <td>-0.118255</td>\n",
       "      <td>0.021160</td>\n",
       "      <td>0.001537</td>\n",
       "      <td>-0.010646</td>\n",
       "      <td>-0.267975</td>\n",
       "      <td>-0.152711</td>\n",
       "      <td>1.000000</td>\n",
       "      <td>-0.115471</td>\n",
       "      <td>0.154262</td>\n",
       "    </tr>\n",
       "    <tr>\n",
       "      <th>bathroom</th>\n",
       "      <td>-0.102503</td>\n",
       "      <td>0.791860</td>\n",
       "      <td>-0.272431</td>\n",
       "      <td>-0.220154</td>\n",
       "      <td>0.052402</td>\n",
       "      <td>0.530335</td>\n",
       "      <td>0.743415</td>\n",
       "      <td>-0.115471</td>\n",
       "      <td>1.000000</td>\n",
       "      <td>-0.052874</td>\n",
       "    </tr>\n",
       "    <tr>\n",
       "      <th>city</th>\n",
       "      <td>-0.288936</td>\n",
       "      <td>-0.173075</td>\n",
       "      <td>0.022325</td>\n",
       "      <td>-0.282801</td>\n",
       "      <td>-0.050140</td>\n",
       "      <td>0.213709</td>\n",
       "      <td>-0.209197</td>\n",
       "      <td>0.154262</td>\n",
       "      <td>-0.052874</td>\n",
       "      <td>1.000000</td>\n",
       "    </tr>\n",
       "  </tbody>\n",
       "</table>\n",
       "</div>"
      ],
      "text/plain": [
       "               seller_type   bedroom  layout_type  property_type  locality  \\\n",
       "seller_type       1.000000 -0.034635     0.072962       0.250540  0.001767   \n",
       "bedroom          -0.034635  1.000000    -0.277177      -0.165683  0.075980   \n",
       "layout_type       0.072962 -0.277177     1.000000       0.694924 -0.008871   \n",
       "property_type     0.250540 -0.165683     0.694924       1.000000  0.009879   \n",
       "locality          0.001767  0.075980    -0.008871       0.009879  1.000000   \n",
       "price            -0.283165  0.487996    -0.213222      -0.272940 -0.082606   \n",
       "area             -0.054221  0.802696    -0.296756      -0.159630  0.058483   \n",
       "furnish_type      0.050179 -0.118255     0.021160       0.001537 -0.010646   \n",
       "bathroom         -0.102503  0.791860    -0.272431      -0.220154  0.052402   \n",
       "city             -0.288936 -0.173075     0.022325      -0.282801 -0.050140   \n",
       "\n",
       "                  price      area  furnish_type  bathroom      city  \n",
       "seller_type   -0.283165 -0.054221      0.050179 -0.102503 -0.288936  \n",
       "bedroom        0.487996  0.802696     -0.118255  0.791860 -0.173075  \n",
       "layout_type   -0.213222 -0.296756      0.021160 -0.272431  0.022325  \n",
       "property_type -0.272940 -0.159630      0.001537 -0.220154 -0.282801  \n",
       "locality      -0.082606  0.058483     -0.010646  0.052402 -0.050140  \n",
       "price          1.000000  0.516461     -0.267975  0.530335  0.213709  \n",
       "area           0.516461  1.000000     -0.152711  0.743415 -0.209197  \n",
       "furnish_type  -0.267975 -0.152711      1.000000 -0.115471  0.154262  \n",
       "bathroom       0.530335  0.743415     -0.115471  1.000000 -0.052874  \n",
       "city           0.213709 -0.209197      0.154262 -0.052874  1.000000  "
      ]
     },
     "execution_count": 49,
     "metadata": {},
     "output_type": "execute_result"
    }
   ],
   "source": [
    "df.corr()"
   ]
  },
  {
   "cell_type": "code",
   "execution_count": 50,
   "id": "0797a619",
   "metadata": {},
   "outputs": [],
   "source": [
    "# Making data suitable for ML algorithms "
   ]
  },
  {
   "cell_type": "code",
   "execution_count": 51,
   "id": "893c0c35",
   "metadata": {},
   "outputs": [],
   "source": [
    "X = df.drop(['price'], axis=1)\n",
    "y = df['price']"
   ]
  },
  {
   "cell_type": "code",
   "execution_count": 52,
   "id": "090f795e",
   "metadata": {},
   "outputs": [],
   "source": [
    "X_train, X_test, y_train, y_test = train_test_split(X, y, test_size=0.25, random_state=12)"
   ]
  },
  {
   "cell_type": "code",
   "execution_count": 53,
   "id": "01353deb",
   "metadata": {},
   "outputs": [
    {
     "name": "stdout",
     "output_type": "stream",
     "text": [
      "X train -  (99165, 9)\n",
      "Y train -  (99165,)\n",
      "X test -  (33055, 9)\n",
      "Y test -  (33055,)\n"
     ]
    }
   ],
   "source": [
    "print('X train - ',X_train.shape)\n",
    "print('Y train - ',y_train.shape)\n",
    "print('X test - ',X_test.shape)\n",
    "print('Y test - ',y_test.shape)"
   ]
  },
  {
   "cell_type": "code",
   "execution_count": 54,
   "id": "2be367ba",
   "metadata": {},
   "outputs": [],
   "source": [
    "# Algorithms "
   ]
  },
  {
   "cell_type": "code",
   "execution_count": 55,
   "id": "b31cadd4",
   "metadata": {},
   "outputs": [],
   "source": [
    "def mae (y_true, y_pred):\n",
    "    return (np.mean(abs(y_true-y_pred)))"
   ]
  },
  {
   "cell_type": "code",
   "execution_count": 56,
   "id": "d80e2e81",
   "metadata": {},
   "outputs": [],
   "source": [
    "def nrmse (y_true, y_pred):\n",
    "    return (math.sqrt(np.square(np.subtract(y_true,y_pred)).mean()))/75000"
   ]
  },
  {
   "cell_type": "code",
   "execution_count": 57,
   "id": "39ed7334",
   "metadata": {},
   "outputs": [],
   "source": [
    "mod=[]\n",
    "header=['Algorithm', 'MAE', 'NRMSE', 'R2 score']"
   ]
  },
  {
   "cell_type": "code",
   "execution_count": 58,
   "id": "ed0b1591",
   "metadata": {},
   "outputs": [],
   "source": [
    "def model_test(model,name):\n",
    "    model.fit(X_train.values,y_train)\n",
    "    predic = model.predict(X_test.values)\n",
    "    MAE=round(mae(y_test,predic),3)\n",
    "    norm_rmse=round(nrmse(y_test,predic),3)\n",
    "    r2s=round(r2_score(y_test,predic),3)\n",
    "    l1=[name,MAE,norm_rmse,r2s]\n",
    "    mod.append(l1)\n",
    "    print('MAE : ', MAE)\n",
    "    print('Normalized RMSE : ',norm_rmse)\n",
    "    print('R2 Score : ',r2s)"
   ]
  },
  {
   "cell_type": "code",
   "execution_count": 59,
   "id": "e2b4e25f",
   "metadata": {},
   "outputs": [
    {
     "name": "stdout",
     "output_type": "stream",
     "text": [
      "MAE :  8380.815\n",
      "Normalized RMSE :  0.148\n",
      "R2 Score :  0.491\n"
     ]
    }
   ],
   "source": [
    "lr = LinearRegression()\n",
    "model_test(lr,'Linear Regression')"
   ]
  },
  {
   "cell_type": "code",
   "execution_count": 60,
   "id": "9790f25f",
   "metadata": {},
   "outputs": [
    {
     "name": "stdout",
     "output_type": "stream",
     "text": [
      "MAE :  4528.424\n",
      "Normalized RMSE :  0.103\n",
      "R2 Score :  0.751\n"
     ]
    }
   ],
   "source": [
    "knn = KNeighborsRegressor(n_neighbors=5)\n",
    "model_test(knn, 'KNeighborsRegressor')"
   ]
  },
  {
   "cell_type": "code",
   "execution_count": 61,
   "id": "4f96239a",
   "metadata": {},
   "outputs": [
    {
     "name": "stdout",
     "output_type": "stream",
     "text": [
      "MAE :  6130.755\n",
      "Normalized RMSE :  0.114\n",
      "R2 Score :  0.698\n"
     ]
    }
   ],
   "source": [
    "gb = GradientBoostingRegressor(random_state=12)\n",
    "model_test(gb,'GradientBoostingRegressor')"
   ]
  },
  {
   "cell_type": "code",
   "execution_count": 62,
   "id": "ab46df96",
   "metadata": {},
   "outputs": [
    {
     "name": "stdout",
     "output_type": "stream",
     "text": [
      "MAE :  3172.228\n",
      "Normalized RMSE :  0.084\n",
      "R2 Score :  0.833\n"
     ]
    }
   ],
   "source": [
    "tree = DecisionTreeRegressor(random_state=12)\n",
    "model_test(tree,'DecisionTreeRegressor')"
   ]
  },
  {
   "cell_type": "code",
   "execution_count": 63,
   "id": "cbd6b6ad",
   "metadata": {},
   "outputs": [
    {
     "name": "stdout",
     "output_type": "stream",
     "text": [
      "MAE :  3087.155\n",
      "Normalized RMSE :  0.073\n",
      "R2 Score :  0.874\n"
     ]
    }
   ],
   "source": [
    "rf = RandomForestRegressor(random_state=12)\n",
    "model_test(rf,'RandomForestRegressor')"
   ]
  },
  {
   "cell_type": "code",
   "execution_count": 64,
   "id": "4dc932cd",
   "metadata": {
    "scrolled": true
   },
   "outputs": [
    {
     "name": "stdout",
     "output_type": "stream",
     "text": [
      "MAE :  4084.234\n",
      "Normalized RMSE :  0.081\n",
      "R2 Score :  0.848\n"
     ]
    }
   ],
   "source": [
    "xgb = xgb.XGBRegressor(objective='reg:squarederror',random_state=12)\n",
    "model_test(xgb,'XGBRegressor')"
   ]
  },
  {
   "cell_type": "code",
   "execution_count": 65,
   "id": "a2a86ff8",
   "metadata": {},
   "outputs": [
    {
     "name": "stdout",
     "output_type": "stream",
     "text": [
      "Algorithm                      MAE    NRMSE    R2 score\n",
      "-------------------------  -------  -------  ----------\n",
      "Linear Regression          8380.82    0.148       0.491\n",
      "KNeighborsRegressor        4528.42    0.103       0.751\n",
      "GradientBoostingRegressor  6130.76    0.114       0.698\n",
      "DecisionTreeRegressor      3172.23    0.084       0.833\n",
      "RandomForestRegressor      3087.16    0.073       0.874\n",
      "XGBRegressor               4084.23    0.081       0.848\n"
     ]
    }
   ],
   "source": [
    "print(tabulate(mod, headers=header))"
   ]
  },
  {
   "cell_type": "code",
   "execution_count": 66,
   "id": "e68594f4",
   "metadata": {
    "scrolled": true
   },
   "outputs": [
    {
     "data": {
      "image/png": "[encoded data removed]",
      "text/plain": [
       "<Figure size 432x288 with 1 Axes>"
      ]
     },
     "metadata": {
      "needs_background": "light"
     },
     "output_type": "display_data"
    }
   ],
   "source": [
    "Model_names = [model[0] for model in mod]\n",
    "MAE = [model[1] for model in mod]\n",
    "\n",
    "plt.bar(Model_names, MAE , color='brown')\n",
    "\n",
    "plt.xticks(rotation=90)\n",
    "plt.xlabel('Models')\n",
    "plt.ylabel('MAE')\n",
    "plt.title('MAE comparison between models')\n",
    "plt.show()"
   ]
  },
  {
   "cell_type": "code",
   "execution_count": 67,
   "id": "d054304d",
   "metadata": {},
   "outputs": [
    {
     "data": {
      "image/png": "[encoded data removed]",
      "text/plain": [
       "<Figure size 432x288 with 1 Axes>"
      ]
     },
     "metadata": {
      "needs_background": "light"
     },
     "output_type": "display_data"
    }
   ],
   "source": [
    "Model_names = [model[0] for model in mod]\n",
    "NRMSE = [model[2] for model in mod]\n",
    "\n",
    "plt.bar(Model_names, NRMSE , color='brown')\n",
    "\n",
    "plt.xticks(rotation=90)\n",
    "plt.xlabel('Models')\n",
    "plt.ylabel('NRMSE')\n",
    "plt.title('NRMSE comparison between models')\n",
    "plt.show()"
   ]
  },
  {
   "cell_type": "code",
   "execution_count": 68,
   "id": "0e2d47a6",
   "metadata": {},
   "outputs": [
    {
     "data": {
      "image/png": "[encoded data removed]",
      "text/plain": [
       "<Figure size 432x288 with 1 Axes>"
      ]
     },
     "metadata": {
      "needs_background": "light"
     },
     "output_type": "display_data"
    }
   ],
   "source": [
    "Model_names = [model[0] for model in mod]\n",
    "R2_score = [model[3] for model in mod]\n",
    "\n",
    "plt.bar(Model_names, R2_score , color='brown')\n",
    "\n",
    "plt.xticks(rotation=90)\n",
    "plt.xlabel('Models')\n",
    "plt.ylabel('R2 score')\n",
    "plt.title('R2 score comparison between models')\n",
    "plt.show()"
   ]
  },
  {
   "cell_type": "code",
   "execution_count": 69,
   "id": "b60de203",
   "metadata": {},
   "outputs": [],
   "source": [
    "def pred(seller,bed_c,layout_,propertytyp,localit,area_c,furnish,bath_c,city_):\n",
    "    \n",
    "    localit=localit.lower()\n",
    "    if localit in df2['locality'].values:\n",
    "        locality_index=df2.index[df2['locality']==localit][0]\n",
    "        locality_c= df.at[locality_index, 'locality']\n",
    "    else:\n",
    "        locality_c=695\n",
    "\n",
    "\n",
    "    seller_dict = {'Agent': 0, 'Builder': 1, 'Owner': 2}\n",
    "    seller_c = seller_dict[seller]\n",
    "    \n",
    "    layout_dict = {'RK': 0, 'BHK': 1}\n",
    "    layout_c = layout_dict[layout_]\n",
    "    \n",
    "    property_dict = {'Villa': 4, 'Independent House': 2, 'Apartment': 0, 'Independent Floor': 1, 'Studio Apartment': 3}\n",
    "    property_c = property_dict[propertytyp]\n",
    "     \n",
    "    furnish_dict = {'Furnished': 0, 'Semifurnished': 1, 'Unfurnished': 2}\n",
    "    furnish_c = furnish_dict[furnish]\n",
    "    \n",
    "    city_dict = {'Hyderabad': 3, 'Delhi': 2, 'Mumbai': 5, 'Chennai': 1, 'Kolkata': 4, 'Bangalore': 0}\n",
    "    city_c = city_dict[city_]\n",
    "\n",
    "    final_pred=[seller_c,bed_c,layout_c,property_c,locality_c,area_c,furnish_c,bath_c,city_c]\n",
    "    rent = round(rf.predict([final_pred])[0])\n",
    "    return rent\n",
    "    "
   ]
  },
  {
   "cell_type": "code",
   "execution_count": 70,
   "id": "e7b21a94",
   "metadata": {
    "scrolled": true
   },
   "outputs": [
    {
     "data": {
      "text/plain": [
       "31665"
      ]
     },
     "execution_count": 70,
     "metadata": {},
     "output_type": "execute_result"
    }
   ],
   "source": [
    "pred('Agent',3,'BHK','Apartment','miyapur',2000,'Unfurnished',3,'Hyderabad')"
   ]
  },
  {
   "cell_type": "code",
   "execution_count": 71,
   "id": "680eb434",
   "metadata": {
    "scrolled": true
   },
   "outputs": [
    {
     "data": {
      "text/plain": [
       "56283"
      ]
     },
     "execution_count": 71,
     "metadata": {},
     "output_type": "execute_result"
    }
   ],
   "source": [
    "pred('Agent',3,'BHK','Independent House','Andheri',1800,'Furnished',3,'Mumbai')"
   ]
  },
  {
   "cell_type": "code",
   "execution_count": 72,
   "id": "0f2b409a",
   "metadata": {},
   "outputs": [
    {
     "data": {
      "text/plain": [
       "36319"
      ]
     },
     "execution_count": 72,
     "metadata": {},
     "output_type": "execute_result"
    }
   ],
   "source": [
    "pred('Agent',5,'BHK','Villa','KPHB',2200,'Unfurnished',4,'Hyderabad')"
   ]
  },
  {
   "cell_type": "code",
   "execution_count": 73,
   "id": "b423e5e0",
   "metadata": {},
   "outputs": [
    {
     "data": {
      "text/plain": [
       "15240"
      ]
     },
     "execution_count": 73,
     "metadata": {},
     "output_type": "execute_result"
    }
   ],
   "source": [
    "pred('Builder',2,'BHK','Apartment','Ameerpet', 1200,'Semifurnished',2,'Hyderabad')"
   ]
  },
  {
   "cell_type": "code",
   "execution_count": 74,
   "id": "858378de",
   "metadata": {},
   "outputs": [
    {
     "data": {
      "text/plain": [
       "10979"
      ]
     },
     "execution_count": 74,
     "metadata": {},
     "output_type": "execute_result"
    }
   ],
   "source": [
    "pred('Owner',1,'RK','Apartment','SR Nagar',900,'Semifurnished',1,'Hyderabad')"
   ]
  },
  {
   "cell_type": "code",
   "execution_count": 75,
   "id": "889c6978",
   "metadata": {},
   "outputs": [],
   "source": [
    "# converting the model to byte stream data\n",
    "with open('model.joblib', 'wb') as file:\n",
    "    joblib.dump(rf, file)"
   ]
  },
  {
   "cell_type": "code",
   "execution_count": 76,
   "id": "33c4f534",
   "metadata": {},
   "outputs": [],
   "source": [
    "window = Tk()\n",
    "window.title('A12 BATCH')\n",
    "window.geometry(\"250x500\")\n",
    "\n",
    "seller_type_label = Label(window, text=\"Seller Type\")\n",
    "seller_type_label.grid(row=1, column=0)\n",
    "seller_type_option = OptionMenu(window, StringVar(value=\"Agent\"), \"Builder\", \"Agent\", \"Owner\")\n",
    "seller_type_option.grid(row=1, column=1)\n",
    "\n",
    "bedroom_label = Label(window, text=\"Bedrooms\",anchor='w')\n",
    "bedroom_label.grid(row=2, column=0)\n",
    "bedroom_option = OptionMenu(window, StringVar(value=\"1\"), \"1\", \"2\", \"3\", \"4\", \"5\", \"6\", \"7\")\n",
    "bedroom_option.grid(row=2, column=1)\n",
    "\n",
    "layout_label = Label(window, text=\"Layout Type\")\n",
    "layout_label.grid(row=3, column=0)\n",
    "layout_option = OptionMenu(window, StringVar(value=\"BHK\"), \"RK\", \"BHK\")\n",
    "layout_option.grid(row=3, column=1)\n",
    "\n",
    "property_type_label = Label(window, text=\"Property Type\")\n",
    "property_type_label.grid(row=4, column=0)\n",
    "property_type_option = OptionMenu(window, StringVar(value=\"Apartment\"), \"Villa\", \"Independent House\", \"Apartment\", \"Independent Floor\", \"Studio Apartment\")\n",
    "property_type_option.grid(row=4, column=1)\n",
    "\n",
    "locality_label = Label(window, text=\"Locality\")\n",
    "locality_label.grid(row=5, column=0)\n",
    "locality_input = Entry(window)\n",
    "locality_input.grid(row=5, column=1)\n",
    "\n",
    "area_label = Label(window, text=\"Area in sqft\")\n",
    "area_label.grid(row=6, column=0)\n",
    "area_input = Entry(window)\n",
    "area_input.grid(row=6, column=1)\n",
    "\n",
    "furnish_type_label = Label(window, text=\"Furnish Type\")\n",
    "furnish_type_label.grid(row=7, column=0)\n",
    "furnish_type_option = OptionMenu(window, StringVar(value=\"Unfurnished\"), \"Furnished\", \"Semifurnished\", \"Unfurnished\")\n",
    "furnish_type_option.grid(row=7, column=1)\n",
    "\n",
    "bathroom_label = Label(window, text=\"Bathroom\")\n",
    "bathroom_label.grid(row=8, column=0)\n",
    "bathroom_option = OptionMenu(window, StringVar(value=\"1\"), \"1\", \"2\", \"3\", \"4\", \"5\", \"6\", \"7\")\n",
    "bathroom_option.grid(row=8, column=1)\n",
    "\n",
    "city_label = Label(window, text=\"City\")\n",
    "city_label.grid(row=9, column=0)\n",
    "city_option = OptionMenu(window, StringVar(value=\"Hyderabad\"), \"Hyderabad\", \"Mumbai\", \"Chennai\", \"Kolkata\", \"Bangalore\", \"Delhi\")\n",
    "city_option.grid(row=9, column=1)\n",
    "\n",
    "def get_input():\n",
    "    seller_type = seller_type_option.cget(\"text\")\n",
    "    bedroom = int(bedroom_option.cget(\"text\"))\n",
    "    layout_type = layout_option.cget(\"text\")\n",
    "    property_type = property_type_option.cget(\"text\")\n",
    "    locality = locality_input.get()\n",
    "    area = float(area_input.get())\n",
    "    furnish_type = furnish_type_option.cget(\"text\")\n",
    "    city = city_option.cget(\"text\")\n",
    "    bathroom = int(bathroom_option.cget(\"text\"))\n",
    "    result1=pred(seller_type,bedroom,layout_type,property_type,locality,area,furnish_type,bathroom,city)\n",
    "    return result1\n",
    "    \n",
    "def onClick():\n",
    "    result1=get_input()\n",
    "    result =f\"Predicted rent value is {result1}\"\n",
    "    tkinter.messagebox.showinfo(\"Prediction\",result)   \n",
    "  \n",
    "button = Button(window, text=\"Predict\",bg='lightgreen', command=onClick).place(x=100, y=370)\n",
    "\n",
    "label = Label(window)\n",
    "\n",
    "window.mainloop()"
   ]
  },
  {
   "cell_type": "code",
   "execution_count": 77,
   "id": "f8a17169",
   "metadata": {},
   "outputs": [],
   "source": [
    "def hybrid(model1,model2):\n",
    "    dict1={}\n",
    "    mod1=model1.predict(X_test.values)\n",
    "    mod2=model2.predict(X_test.values)\n",
    "    for i in range(0,101):\n",
    "        hybmod=((mod1*i)+(mod2*(100-i)))/100\n",
    "        dict1[i]=r2_score(y_test,hybmod)\n",
    "    ratio = max(dict1, key=dict1.get)\n",
    "    return ratio"
   ]
  },
  {
   "cell_type": "code",
   "execution_count": 78,
   "id": "6ea54d10",
   "metadata": {},
   "outputs": [],
   "source": [
    "def hybrid_test(model1,model2):\n",
    "    t=hybrid(model1,model2)\n",
    "    mod1=model1.predict(X_test.values)\n",
    "    mod2=model2.predict(X_test.values)    \n",
    "    mod=(mod1*t+mod2*(100-t))/100\n",
    "    print('MAE',mae(y_test,mod))\n",
    "    print('NRMSE', nrmse(y_test,mod))\n",
    "    print('R2 Score',round(r2_score(y_test,mod),3))"
   ]
  },
  {
   "cell_type": "code",
   "execution_count": 79,
   "id": "652a74ab",
   "metadata": {
    "scrolled": true
   },
   "outputs": [
    {
     "name": "stdout",
     "output_type": "stream",
     "text": [
      "MAE 3256.173904141417\n",
      "NRMSE 0.0713886172032884\n",
      "R2 Score 0.881\n"
     ]
    }
   ],
   "source": [
    "hybrid_test(rf,xgb)"
   ]
  },
  {
   "cell_type": "code",
   "execution_count": null,
   "id": "c5938638",
   "metadata": {},
   "outputs": [],
   "source": []
  }
 ],
 "metadata": {
  "kernelspec": {
   "display_name": "Python 3 (ipykernel)",
   "language": "python",
   "name": "python3"
  },
  "language_info": {
   "codemirror_mode": {
    "name": "ipython",
    "version": 3
   },
   "file_extension": ".py",
   "mimetype": "text/x-python",
   "name": "python",
   "nbconvert_exporter": "python",
   "pygments_lexer": "ipython3",
   "version": "3.11.4"
  }
 },
 "nbformat": 4,
 "nbformat_minor": 5
}
